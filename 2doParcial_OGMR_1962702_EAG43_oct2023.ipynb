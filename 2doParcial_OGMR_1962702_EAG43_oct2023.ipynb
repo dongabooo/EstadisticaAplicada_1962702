{
 "cells": [
  {
   "cell_type": "markdown",
   "metadata": {},
   "source": [
    "## Estadística Aplicada\n",
    "\n",
    "2do parcial\n",
    "\n",
    "Oscar Gabriel Martínez Rodríguez 1962702\n",
    "\n",
    "Grupo 43"
   ]
  },
  {
   "cell_type": "code",
   "execution_count": 137,
   "metadata": {},
   "outputs": [],
   "source": [
    "## cargar librerías necesarias para este notebook\n",
    "import pandas as pd\n",
    "import numpy as np\n",
    "import matplotlib.pyplot as plt\n",
    "%matplotlib inline"
   ]
  },
  {
   "cell_type": "code",
   "execution_count": 138,
   "metadata": {},
   "outputs": [],
   "source": [
    "## librerias específicas\n",
    "from lifelines import ExponentialFitter\n",
    "from lifelines import WeibullFitter\n",
    "from lifelines import LogNormalFitter\n",
    "from lifelines import KaplanMeierFitter\n",
    "from lifelines.statistics import logrank_test\n",
    "from lifelines import CoxPHFitter\n",
    "import seaborn as sns"
   ]
  },
  {
   "cell_type": "code",
   "execution_count": 139,
   "metadata": {},
   "outputs": [
    {
     "data": {
      "text/html": [
       "<div>\n",
       "<style scoped>\n",
       "    .dataframe tbody tr th:only-of-type {\n",
       "        vertical-align: middle;\n",
       "    }\n",
       "\n",
       "    .dataframe tbody tr th {\n",
       "        vertical-align: top;\n",
       "    }\n",
       "\n",
       "    .dataframe thead th {\n",
       "        text-align: right;\n",
       "    }\n",
       "</style>\n",
       "<table border=\"1\" class=\"dataframe\">\n",
       "  <thead>\n",
       "    <tr style=\"text-align: right;\">\n",
       "      <th></th>\n",
       "      <th>saldo_cuenta</th>\n",
       "      <th>meses</th>\n",
       "      <th>historia_crediticia</th>\n",
       "      <th>uso</th>\n",
       "      <th>cantidad</th>\n",
       "      <th>saldo_cuenta_ahorro</th>\n",
       "      <th>años_trabajando</th>\n",
       "      <th>tasa_de_interes</th>\n",
       "      <th>genero_estado_civil</th>\n",
       "      <th>aval</th>\n",
       "      <th>...</th>\n",
       "      <th>activos</th>\n",
       "      <th>edad</th>\n",
       "      <th>planes_de_pago</th>\n",
       "      <th>casa</th>\n",
       "      <th>numero_creditos</th>\n",
       "      <th>situacion_laboral</th>\n",
       "      <th>dependientes_economicos</th>\n",
       "      <th>telefono</th>\n",
       "      <th>extranjero</th>\n",
       "      <th>credito_pagado</th>\n",
       "    </tr>\n",
       "  </thead>\n",
       "  <tbody>\n",
       "    <tr>\n",
       "      <th>0</th>\n",
       "      <td>menor_a_cero</td>\n",
       "      <td>6</td>\n",
       "      <td>no_ha_pagado</td>\n",
       "      <td>TV</td>\n",
       "      <td>1169</td>\n",
       "      <td>NaN</td>\n",
       "      <td>mas_de_7</td>\n",
       "      <td>4</td>\n",
       "      <td>hombre_soltero</td>\n",
       "      <td>NaN</td>\n",
       "      <td>...</td>\n",
       "      <td>bienes_raices</td>\n",
       "      <td>67</td>\n",
       "      <td>NaN</td>\n",
       "      <td>propia</td>\n",
       "      <td>2</td>\n",
       "      <td>gobierno</td>\n",
       "      <td>1</td>\n",
       "      <td>1</td>\n",
       "      <td>1</td>\n",
       "      <td>1</td>\n",
       "    </tr>\n",
       "    <tr>\n",
       "      <th>1</th>\n",
       "      <td>cero_a_200</td>\n",
       "      <td>48</td>\n",
       "      <td>pago_algun_credito</td>\n",
       "      <td>TV</td>\n",
       "      <td>5951</td>\n",
       "      <td>menor_100</td>\n",
       "      <td>1_a_4</td>\n",
       "      <td>2</td>\n",
       "      <td>mujer_no_soltera</td>\n",
       "      <td>NaN</td>\n",
       "      <td>...</td>\n",
       "      <td>bienes_raices</td>\n",
       "      <td>22</td>\n",
       "      <td>NaN</td>\n",
       "      <td>propia</td>\n",
       "      <td>1</td>\n",
       "      <td>gobierno</td>\n",
       "      <td>1</td>\n",
       "      <td>0</td>\n",
       "      <td>1</td>\n",
       "      <td>0</td>\n",
       "    </tr>\n",
       "    <tr>\n",
       "      <th>2</th>\n",
       "      <td>sin_cuenta</td>\n",
       "      <td>12</td>\n",
       "      <td>no_ha_pagado</td>\n",
       "      <td>colegiaturas</td>\n",
       "      <td>2096</td>\n",
       "      <td>menor_100</td>\n",
       "      <td>4_a_7</td>\n",
       "      <td>2</td>\n",
       "      <td>hombre_soltero</td>\n",
       "      <td>NaN</td>\n",
       "      <td>...</td>\n",
       "      <td>bienes_raices</td>\n",
       "      <td>49</td>\n",
       "      <td>NaN</td>\n",
       "      <td>propia</td>\n",
       "      <td>1</td>\n",
       "      <td>obrero</td>\n",
       "      <td>2</td>\n",
       "      <td>0</td>\n",
       "      <td>1</td>\n",
       "      <td>1</td>\n",
       "    </tr>\n",
       "    <tr>\n",
       "      <th>3</th>\n",
       "      <td>menor_a_cero</td>\n",
       "      <td>42</td>\n",
       "      <td>pago_algun_credito</td>\n",
       "      <td>mobiliario</td>\n",
       "      <td>7882</td>\n",
       "      <td>menor_100</td>\n",
       "      <td>4_a_7</td>\n",
       "      <td>2</td>\n",
       "      <td>hombre_soltero</td>\n",
       "      <td>aval</td>\n",
       "      <td>...</td>\n",
       "      <td>seguro_vida</td>\n",
       "      <td>45</td>\n",
       "      <td>NaN</td>\n",
       "      <td>prestada</td>\n",
       "      <td>1</td>\n",
       "      <td>gobierno</td>\n",
       "      <td>2</td>\n",
       "      <td>0</td>\n",
       "      <td>1</td>\n",
       "      <td>1</td>\n",
       "    </tr>\n",
       "    <tr>\n",
       "      <th>4</th>\n",
       "      <td>menor_a_cero</td>\n",
       "      <td>24</td>\n",
       "      <td>pago_retrasado</td>\n",
       "      <td>coche_nuevo</td>\n",
       "      <td>4870</td>\n",
       "      <td>menor_100</td>\n",
       "      <td>1_a_4</td>\n",
       "      <td>3</td>\n",
       "      <td>hombre_soltero</td>\n",
       "      <td>NaN</td>\n",
       "      <td>...</td>\n",
       "      <td>sin_activos</td>\n",
       "      <td>53</td>\n",
       "      <td>NaN</td>\n",
       "      <td>prestada</td>\n",
       "      <td>2</td>\n",
       "      <td>gobierno</td>\n",
       "      <td>2</td>\n",
       "      <td>0</td>\n",
       "      <td>1</td>\n",
       "      <td>0</td>\n",
       "    </tr>\n",
       "  </tbody>\n",
       "</table>\n",
       "<p>5 rows × 21 columns</p>\n",
       "</div>"
      ],
      "text/plain": [
       "   saldo_cuenta  meses historia_crediticia           uso  cantidad   \n",
       "0  menor_a_cero      6        no_ha_pagado            TV      1169  \\\n",
       "1    cero_a_200     48  pago_algun_credito            TV      5951   \n",
       "2    sin_cuenta     12        no_ha_pagado  colegiaturas      2096   \n",
       "3  menor_a_cero     42  pago_algun_credito    mobiliario      7882   \n",
       "4  menor_a_cero     24      pago_retrasado   coche_nuevo      4870   \n",
       "\n",
       "  saldo_cuenta_ahorro años_trabajando  tasa_de_interes genero_estado_civil   \n",
       "0                 NaN        mas_de_7                4      hombre_soltero  \\\n",
       "1           menor_100           1_a_4                2    mujer_no_soltera   \n",
       "2           menor_100           4_a_7                2      hombre_soltero   \n",
       "3           menor_100           4_a_7                2      hombre_soltero   \n",
       "4           menor_100           1_a_4                3      hombre_soltero   \n",
       "\n",
       "   aval  ...        activos edad  planes_de_pago      casa numero_creditos   \n",
       "0   NaN  ...  bienes_raices   67             NaN    propia               2  \\\n",
       "1   NaN  ...  bienes_raices   22             NaN    propia               1   \n",
       "2   NaN  ...  bienes_raices   49             NaN    propia               1   \n",
       "3  aval  ...    seguro_vida   45             NaN  prestada               1   \n",
       "4   NaN  ...    sin_activos   53             NaN  prestada               2   \n",
       "\n",
       "   situacion_laboral dependientes_economicos  telefono  extranjero   \n",
       "0           gobierno                       1         1           1  \\\n",
       "1           gobierno                       1         0           1   \n",
       "2             obrero                       2         0           1   \n",
       "3           gobierno                       2         0           1   \n",
       "4           gobierno                       2         0           1   \n",
       "\n",
       "   credito_pagado  \n",
       "0               1  \n",
       "1               0  \n",
       "2               1  \n",
       "3               1  \n",
       "4               0  \n",
       "\n",
       "[5 rows x 21 columns]"
      ]
     },
     "execution_count": 139,
     "metadata": {},
     "output_type": "execute_result"
    }
   ],
   "source": [
    "## cargar los datos\n",
    "data = pd.read_csv('https://raw.githubusercontent.com/jimmyzac/Estadistica-Aplicada-FCFM-UANL/main/bases_datos/credit_risk.csv')\n",
    "data.head(5)"
   ]
  },
  {
   "cell_type": "code",
   "execution_count": 140,
   "metadata": {},
   "outputs": [
    {
     "data": {
      "text/plain": [
       "saldo_cuenta               object\n",
       "meses                       int64\n",
       "historia_crediticia        object\n",
       "uso                        object\n",
       "cantidad                    int64\n",
       "saldo_cuenta_ahorro        object\n",
       "años_trabajando            object\n",
       "tasa_de_interes             int64\n",
       "genero_estado_civil        object\n",
       "aval                       object\n",
       "años_actual_domicilio       int64\n",
       "activos                    object\n",
       "edad                        int64\n",
       "planes_de_pago             object\n",
       "casa                       object\n",
       "numero_creditos             int64\n",
       "situacion_laboral          object\n",
       "dependientes_economicos     int64\n",
       "telefono                    int64\n",
       "extranjero                  int64\n",
       "credito_pagado              int64\n",
       "dtype: object"
      ]
     },
     "execution_count": 140,
     "metadata": {},
     "output_type": "execute_result"
    }
   ],
   "source": [
    "data.dtypes"
   ]
  },
  {
   "cell_type": "markdown",
   "metadata": {},
   "source": [
    "**crédito pagado** -> '1' si el cliente ha pagado completamente el préstamo, '0' si no lo ha hecho o aún no termina de pagar.\n",
    "\n",
    "**meses** -> tiempo en meses que lleva pagar completamente el préstamo.\n",
    "\n",
    "**cantidad** -> monto del préstamo otorgado en euros."
   ]
  },
  {
   "cell_type": "markdown",
   "metadata": {},
   "source": [
    "### Análisis exploratorio\n",
    "\n",
    "Cuántas variables y cuántas observaciones tienen la base"
   ]
  },
  {
   "cell_type": "code",
   "execution_count": 141,
   "metadata": {},
   "outputs": [
    {
     "data": {
      "text/plain": [
       "(1000, 21)"
      ]
     },
     "execution_count": 141,
     "metadata": {},
     "output_type": "execute_result"
    }
   ],
   "source": [
    "data.shape"
   ]
  },
  {
   "cell_type": "markdown",
   "metadata": {},
   "source": [
    "En la base hay 21 variables y 1000 observaciones.\n",
    "\n",
    "Cuál es el monto promedio de los créditos otorgados por el banco."
   ]
  },
  {
   "cell_type": "code",
   "execution_count": 142,
   "metadata": {},
   "outputs": [
    {
     "data": {
      "text/plain": [
       "3271.26"
      ]
     },
     "execution_count": 142,
     "metadata": {},
     "output_type": "execute_result"
    }
   ],
   "source": [
    "data['cantidad'].mean().round(2)"
   ]
  },
  {
   "cell_type": "markdown",
   "metadata": {},
   "source": [
    "El monto promedio es de 3271.26 euros.\n",
    "\n",
    "Cuál es el tiempo promedio que se tardaron en pagar el préstamo los que pagaron el préstamo en su totalidad."
   ]
  },
  {
   "cell_type": "code",
   "execution_count": 143,
   "metadata": {},
   "outputs": [
    {
     "data": {
      "text/html": [
       "<div>\n",
       "<style scoped>\n",
       "    .dataframe tbody tr th:only-of-type {\n",
       "        vertical-align: middle;\n",
       "    }\n",
       "\n",
       "    .dataframe tbody tr th {\n",
       "        vertical-align: top;\n",
       "    }\n",
       "\n",
       "    .dataframe thead th {\n",
       "        text-align: right;\n",
       "    }\n",
       "</style>\n",
       "<table border=\"1\" class=\"dataframe\">\n",
       "  <thead>\n",
       "    <tr style=\"text-align: right;\">\n",
       "      <th></th>\n",
       "      <th>meses</th>\n",
       "    </tr>\n",
       "    <tr>\n",
       "      <th>credito_pagado</th>\n",
       "      <th></th>\n",
       "    </tr>\n",
       "  </thead>\n",
       "  <tbody>\n",
       "    <tr>\n",
       "      <th>0</th>\n",
       "      <td>24.86</td>\n",
       "    </tr>\n",
       "    <tr>\n",
       "      <th>1</th>\n",
       "      <td>19.21</td>\n",
       "    </tr>\n",
       "  </tbody>\n",
       "</table>\n",
       "</div>"
      ],
      "text/plain": [
       "                meses\n",
       "credito_pagado       \n",
       "0               24.86\n",
       "1               19.21"
      ]
     },
     "execution_count": 143,
     "metadata": {},
     "output_type": "execute_result"
    }
   ],
   "source": [
    "data1 = data.groupby('credito_pagado')[['meses']].mean().round(2)\n",
    "data1"
   ]
  },
  {
   "cell_type": "markdown",
   "metadata": {},
   "source": [
    "Quienes ya pagaron su préstamo en su totalidad (1) tardaron 19.21 meses.\n",
    "\n",
    "Cuál es la tasa de interés promedio otorgada por el banco."
   ]
  },
  {
   "cell_type": "code",
   "execution_count": 144,
   "metadata": {},
   "outputs": [
    {
     "data": {
      "text/plain": [
       "2.973"
      ]
     },
     "execution_count": 144,
     "metadata": {},
     "output_type": "execute_result"
    }
   ],
   "source": [
    "data['tasa_de_interes'].mean().round(3)"
   ]
  },
  {
   "cell_type": "markdown",
   "metadata": {},
   "source": [
    "La tasa de interés promedio otorgada es de 2.973%.\n",
    "\n",
    "Cuál es el monto promedio y la tasa de interés promedio de los que ya pagaron."
   ]
  },
  {
   "cell_type": "code",
   "execution_count": 145,
   "metadata": {},
   "outputs": [
    {
     "data": {
      "text/html": [
       "<div>\n",
       "<style scoped>\n",
       "    .dataframe tbody tr th:only-of-type {\n",
       "        vertical-align: middle;\n",
       "    }\n",
       "\n",
       "    .dataframe tbody tr th {\n",
       "        vertical-align: top;\n",
       "    }\n",
       "\n",
       "    .dataframe thead th {\n",
       "        text-align: right;\n",
       "    }\n",
       "</style>\n",
       "<table border=\"1\" class=\"dataframe\">\n",
       "  <thead>\n",
       "    <tr style=\"text-align: right;\">\n",
       "      <th></th>\n",
       "      <th>cantidad</th>\n",
       "      <th>tasa_de_interes</th>\n",
       "    </tr>\n",
       "    <tr>\n",
       "      <th>credito_pagado</th>\n",
       "      <th></th>\n",
       "      <th></th>\n",
       "    </tr>\n",
       "  </thead>\n",
       "  <tbody>\n",
       "    <tr>\n",
       "      <th>0</th>\n",
       "      <td>3938.13</td>\n",
       "      <td>3.10</td>\n",
       "    </tr>\n",
       "    <tr>\n",
       "      <th>1</th>\n",
       "      <td>2985.46</td>\n",
       "      <td>2.92</td>\n",
       "    </tr>\n",
       "  </tbody>\n",
       "</table>\n",
       "</div>"
      ],
      "text/plain": [
       "                cantidad  tasa_de_interes\n",
       "credito_pagado                           \n",
       "0                3938.13             3.10\n",
       "1                2985.46             2.92"
      ]
     },
     "execution_count": 145,
     "metadata": {},
     "output_type": "execute_result"
    }
   ],
   "source": [
    "data2 = data.groupby('credito_pagado')[['cantidad', 'tasa_de_interes']].mean().round(2)\n",
    "data2"
   ]
  },
  {
   "cell_type": "markdown",
   "metadata": {},
   "source": [
    "El monto promedio de los que ya pagaron es de 2985.46 euros, con una tasa de interés promedio de 2.90%.\n",
    "\n",
    "Cuál es el monto promedio y la tasa de interés promedio de los que no han pagado.\n",
    "\n",
    "Con el mismo output anterior, se tiene que el monto promedio de los que no han pagado es de 3939.13 euros, con una tasa de interés promedio de 3.10%."
   ]
  },
  {
   "cell_type": "markdown",
   "metadata": {},
   "source": [
    "### Estime un modelo de Kaplan-Meier"
   ]
  },
  {
   "cell_type": "markdown",
   "metadata": {},
   "source": [
    "Utilizando las variables de 'meses' y de 'credito_pagado' se crea el modelo de Kaplan-Meier"
   ]
  },
  {
   "cell_type": "code",
   "execution_count": 146,
   "metadata": {},
   "outputs": [],
   "source": [
    "km1 = KaplanMeierFitter().fit(data['meses'], data['credito_pagado'])"
   ]
  },
  {
   "cell_type": "markdown",
   "metadata": {},
   "source": [
    "a) Cuál es la mediana del tiempo y qué significa"
   ]
  },
  {
   "cell_type": "code",
   "execution_count": 147,
   "metadata": {},
   "outputs": [
    {
     "data": {
      "text/plain": [
       "24.0"
      ]
     },
     "execution_count": 147,
     "metadata": {},
     "output_type": "execute_result"
    }
   ],
   "source": [
    "km1.median_survival_time_"
   ]
  },
  {
   "cell_type": "markdown",
   "metadata": {},
   "source": [
    "La mediana del tiempo es de 24 meses, indica que la mitad de los créditos son pagados en este tiempo.\n",
    "\n",
    "b) ¿Es mayor/menor que el tiempo promedio del inciso 1c?\n",
    "\n",
    "Dado que el promedio es de 19.21 meses, la mediana del modelo es mayor que el tiempo promedio observado."
   ]
  },
  {
   "cell_type": "markdown",
   "metadata": {},
   "source": [
    "#### 3. Determine si el riesgo de que el préstamo se pague en su totalidad es constante, creciente, decreciente, o tipo log-normal respecto al tiempo."
   ]
  },
  {
   "cell_type": "markdown",
   "metadata": {},
   "source": [
    "Primero hay que determinar cuál es el mejor modelo entre el Exponencial, el de Weibull o el de LogNormal."
   ]
  },
  {
   "cell_type": "code",
   "execution_count": 148,
   "metadata": {},
   "outputs": [],
   "source": [
    "mexpo = ExponentialFitter().fit(data['meses'], data['credito_pagado'])\n",
    "mweib = WeibullFitter().fit(data['meses'], data['credito_pagado'])\n",
    "mlogn = LogNormalFitter().fit(data['meses'], data['credito_pagado'])"
   ]
  },
  {
   "cell_type": "markdown",
   "metadata": {},
   "source": [
    "Ahora, por el criterio de AIC se determina cuál es el mejor modelo:"
   ]
  },
  {
   "cell_type": "code",
   "execution_count": 149,
   "metadata": {},
   "outputs": [
    {
     "name": "stdout",
     "output_type": "stream",
     "text": [
      "Exponencial: 6157.19, Weibull: 5900.98, LogN: 5813.75\n"
     ]
    }
   ],
   "source": [
    "##Criterio AIC (menor  = mejor)\n",
    "print(f'Exponencial: {mexpo.AIC_.round(2)}, Weibull: {mweib.AIC_.round(2)}, LogN: {mlogn.AIC_.round(2)}')"
   ]
  },
  {
   "cell_type": "markdown",
   "metadata": {},
   "source": [
    "Teniendo que el modelo LogNormal es el que mejor se ajusta para estos datos, se procede a graficar su función de riesgo."
   ]
  },
  {
   "cell_type": "code",
   "execution_count": 150,
   "metadata": {},
   "outputs": [
    {
     "data": {
      "image/png": "[encoded data removed]",
      "text/plain": [
       "<Figure size 640x480 with 1 Axes>"
      ]
     },
     "metadata": {},
     "output_type": "display_data"
    }
   ],
   "source": [
    "mlogn.plot_hazard(label = 'funcion estimada IC 95%')\n",
    "plt.title('Funcion riesgo Log Normal')\n",
    "plt.xlim(5, 70)\n",
    "plt.xlabel('meses')\n",
    "plt.ylabel('$ h(t) $')\n",
    "plt.show()"
   ]
  },
  {
   "cell_type": "markdown",
   "metadata": {},
   "source": [
    "La función de riesgo tiene forma de Log Normal."
   ]
  },
  {
   "cell_type": "markdown",
   "metadata": {},
   "source": [
    "### 4. Estimar un modelo de Cox para ver qué factores influyen sobre el riesgo de que el préstamo se pague en su totalidad.\n",
    "\n",
    "a) A parte de “tasa de interes” y “cantidad”, elige otras cuatro variables que \n",
    "creas que afectan el riesgo del evento\n",
    "\n",
    "b) Di si cada una de las 6 variables que elegiste, aumentan/disminuyen el \n",
    "riesgo del evento y por qué\n",
    "\n",
    "c) Realiza las transformaciones adecuadas para utilizar las variables en un \n",
    "modelo de cox\n",
    "\n",
    "d) Estima un modelo de cox con las variables elegidas e interpreta los \n",
    "coeficientes"
   ]
  },
  {
   "cell_type": "code",
   "execution_count": 151,
   "metadata": {},
   "outputs": [
    {
     "data": {
      "text/plain": [
       "saldo_cuenta               object\n",
       "meses                       int64\n",
       "historia_crediticia        object\n",
       "uso                        object\n",
       "cantidad                    int64\n",
       "saldo_cuenta_ahorro        object\n",
       "años_trabajando            object\n",
       "tasa_de_interes             int64\n",
       "genero_estado_civil        object\n",
       "aval                       object\n",
       "años_actual_domicilio       int64\n",
       "activos                    object\n",
       "edad                        int64\n",
       "planes_de_pago             object\n",
       "casa                       object\n",
       "numero_creditos             int64\n",
       "situacion_laboral          object\n",
       "dependientes_economicos     int64\n",
       "telefono                    int64\n",
       "extranjero                  int64\n",
       "credito_pagado              int64\n",
       "dtype: object"
      ]
     },
     "execution_count": 151,
     "metadata": {},
     "output_type": "execute_result"
    }
   ],
   "source": [
    "## ver todas las variables disponibles\n",
    "data.dtypes"
   ]
  },
  {
   "cell_type": "markdown",
   "metadata": {},
   "source": [
    "Se seleccionarán las siguientes variables:\n",
    "- edad\n",
    "- numero_creditos\n",
    "- historia_crediticia\n",
    "- situacion_laboral\n",
    "\n",
    "Estas variables podrían tener impacto en el riesgo de pagarse en su totalidad un préstamo, pues estas variables pueden apoyar o relacionarse con el nivel de solvencia económica con el que puede contar una persona.\n",
    "\n",
    "Quedando entonces la base de datos de la siguiente forma:"
   ]
  },
  {
   "cell_type": "code",
   "execution_count": 152,
   "metadata": {},
   "outputs": [
    {
     "data": {
      "text/html": [
       "<div>\n",
       "<style scoped>\n",
       "    .dataframe tbody tr th:only-of-type {\n",
       "        vertical-align: middle;\n",
       "    }\n",
       "\n",
       "    .dataframe tbody tr th {\n",
       "        vertical-align: top;\n",
       "    }\n",
       "\n",
       "    .dataframe thead th {\n",
       "        text-align: right;\n",
       "    }\n",
       "</style>\n",
       "<table border=\"1\" class=\"dataframe\">\n",
       "  <thead>\n",
       "    <tr style=\"text-align: right;\">\n",
       "      <th></th>\n",
       "      <th>credito_pagado</th>\n",
       "      <th>meses</th>\n",
       "      <th>tasa_de_interes</th>\n",
       "      <th>cantidad</th>\n",
       "      <th>edad</th>\n",
       "      <th>numero_creditos</th>\n",
       "      <th>historia_crediticia</th>\n",
       "      <th>situacion_laboral</th>\n",
       "    </tr>\n",
       "  </thead>\n",
       "  <tbody>\n",
       "    <tr>\n",
       "      <th>0</th>\n",
       "      <td>1</td>\n",
       "      <td>6</td>\n",
       "      <td>4</td>\n",
       "      <td>1169</td>\n",
       "      <td>67</td>\n",
       "      <td>2</td>\n",
       "      <td>no_ha_pagado</td>\n",
       "      <td>gobierno</td>\n",
       "    </tr>\n",
       "    <tr>\n",
       "      <th>1</th>\n",
       "      <td>0</td>\n",
       "      <td>48</td>\n",
       "      <td>2</td>\n",
       "      <td>5951</td>\n",
       "      <td>22</td>\n",
       "      <td>1</td>\n",
       "      <td>pago_algun_credito</td>\n",
       "      <td>gobierno</td>\n",
       "    </tr>\n",
       "    <tr>\n",
       "      <th>2</th>\n",
       "      <td>1</td>\n",
       "      <td>12</td>\n",
       "      <td>2</td>\n",
       "      <td>2096</td>\n",
       "      <td>49</td>\n",
       "      <td>1</td>\n",
       "      <td>no_ha_pagado</td>\n",
       "      <td>obrero</td>\n",
       "    </tr>\n",
       "    <tr>\n",
       "      <th>3</th>\n",
       "      <td>1</td>\n",
       "      <td>42</td>\n",
       "      <td>2</td>\n",
       "      <td>7882</td>\n",
       "      <td>45</td>\n",
       "      <td>1</td>\n",
       "      <td>pago_algun_credito</td>\n",
       "      <td>gobierno</td>\n",
       "    </tr>\n",
       "    <tr>\n",
       "      <th>4</th>\n",
       "      <td>0</td>\n",
       "      <td>24</td>\n",
       "      <td>3</td>\n",
       "      <td>4870</td>\n",
       "      <td>53</td>\n",
       "      <td>2</td>\n",
       "      <td>pago_retrasado</td>\n",
       "      <td>gobierno</td>\n",
       "    </tr>\n",
       "  </tbody>\n",
       "</table>\n",
       "</div>"
      ],
      "text/plain": [
       "   credito_pagado  meses  tasa_de_interes  cantidad  edad  numero_creditos   \n",
       "0               1      6                4      1169    67                2  \\\n",
       "1               0     48                2      5951    22                1   \n",
       "2               1     12                2      2096    49                1   \n",
       "3               1     42                2      7882    45                1   \n",
       "4               0     24                3      4870    53                2   \n",
       "\n",
       "  historia_crediticia situacion_laboral  \n",
       "0        no_ha_pagado          gobierno  \n",
       "1  pago_algun_credito          gobierno  \n",
       "2        no_ha_pagado            obrero  \n",
       "3  pago_algun_credito          gobierno  \n",
       "4      pago_retrasado          gobierno  "
      ]
     },
     "execution_count": 152,
     "metadata": {},
     "output_type": "execute_result"
    }
   ],
   "source": [
    "coxdata = data[['credito_pagado','meses', 'tasa_de_interes', 'cantidad', 'edad','numero_creditos', 'historia_crediticia', 'situacion_laboral']]\n",
    "coxdata.head(5)"
   ]
  },
  {
   "cell_type": "code",
   "execution_count": 153,
   "metadata": {},
   "outputs": [
    {
     "data": {
      "text/plain": [
       "credito_pagado         0\n",
       "meses                  0\n",
       "tasa_de_interes        0\n",
       "cantidad               0\n",
       "edad                   0\n",
       "numero_creditos        0\n",
       "historia_crediticia    0\n",
       "situacion_laboral      0\n",
       "dtype: int64"
      ]
     },
     "execution_count": 153,
     "metadata": {},
     "output_type": "execute_result"
    }
   ],
   "source": [
    "## depuración de base de datos\n",
    "# buscar missing values\n",
    "coxdata.isnull().sum()"
   ]
  },
  {
   "cell_type": "code",
   "execution_count": 154,
   "metadata": {},
   "outputs": [
    {
     "data": {
      "text/plain": [
       "0"
      ]
     },
     "execution_count": 154,
     "metadata": {},
     "output_type": "execute_result"
    }
   ],
   "source": [
    "#buscar valores duplicados\n",
    "coxdata.duplicated().sum()"
   ]
  },
  {
   "cell_type": "code",
   "execution_count": 155,
   "metadata": {},
   "outputs": [
    {
     "data": {
      "text/plain": [
       "credito_pagado          int64\n",
       "meses                   int64\n",
       "tasa_de_interes         int64\n",
       "cantidad                int64\n",
       "edad                    int64\n",
       "numero_creditos         int64\n",
       "historia_crediticia    object\n",
       "situacion_laboral      object\n",
       "dtype: object"
      ]
     },
     "execution_count": 155,
     "metadata": {},
     "output_type": "execute_result"
    }
   ],
   "source": [
    "#tipos de variables\n",
    "coxdata.dtypes"
   ]
  },
  {
   "cell_type": "markdown",
   "metadata": {},
   "source": [
    "Hay que obtener dummies de las siguientes variables:\n",
    "\n",
    "- historia_crediticia\n",
    "- situacion_laboral"
   ]
  },
  {
   "cell_type": "code",
   "execution_count": 156,
   "metadata": {},
   "outputs": [
    {
     "data": {
      "text/plain": [
       "array(['no_ha_pagado', 'pago_algun_credito', 'pago_retrasado',\n",
       "       'sin_creditos', 'pago_todos'], dtype=object)"
      ]
     },
     "execution_count": 156,
     "metadata": {},
     "output_type": "execute_result"
    }
   ],
   "source": [
    "unique_hc = coxdata['historia_crediticia'].unique()\n",
    "unique_hc"
   ]
  },
  {
   "cell_type": "code",
   "execution_count": 157,
   "metadata": {},
   "outputs": [
    {
     "data": {
      "text/html": [
       "<div>\n",
       "<style scoped>\n",
       "    .dataframe tbody tr th:only-of-type {\n",
       "        vertical-align: middle;\n",
       "    }\n",
       "\n",
       "    .dataframe tbody tr th {\n",
       "        vertical-align: top;\n",
       "    }\n",
       "\n",
       "    .dataframe thead th {\n",
       "        text-align: right;\n",
       "    }\n",
       "</style>\n",
       "<table border=\"1\" class=\"dataframe\">\n",
       "  <thead>\n",
       "    <tr style=\"text-align: right;\">\n",
       "      <th></th>\n",
       "      <th>hc_no_ha_pagado</th>\n",
       "      <th>hc_pago_algun_credito</th>\n",
       "      <th>hc_pago_retrasado</th>\n",
       "      <th>hc_pago_todos</th>\n",
       "      <th>hc_sin_creditos</th>\n",
       "    </tr>\n",
       "  </thead>\n",
       "  <tbody>\n",
       "    <tr>\n",
       "      <th>0</th>\n",
       "      <td>1</td>\n",
       "      <td>0</td>\n",
       "      <td>0</td>\n",
       "      <td>0</td>\n",
       "      <td>0</td>\n",
       "    </tr>\n",
       "    <tr>\n",
       "      <th>1</th>\n",
       "      <td>0</td>\n",
       "      <td>1</td>\n",
       "      <td>0</td>\n",
       "      <td>0</td>\n",
       "      <td>0</td>\n",
       "    </tr>\n",
       "    <tr>\n",
       "      <th>2</th>\n",
       "      <td>1</td>\n",
       "      <td>0</td>\n",
       "      <td>0</td>\n",
       "      <td>0</td>\n",
       "      <td>0</td>\n",
       "    </tr>\n",
       "    <tr>\n",
       "      <th>3</th>\n",
       "      <td>0</td>\n",
       "      <td>1</td>\n",
       "      <td>0</td>\n",
       "      <td>0</td>\n",
       "      <td>0</td>\n",
       "    </tr>\n",
       "    <tr>\n",
       "      <th>4</th>\n",
       "      <td>0</td>\n",
       "      <td>0</td>\n",
       "      <td>1</td>\n",
       "      <td>0</td>\n",
       "      <td>0</td>\n",
       "    </tr>\n",
       "  </tbody>\n",
       "</table>\n",
       "</div>"
      ],
      "text/plain": [
       "   hc_no_ha_pagado  hc_pago_algun_credito  hc_pago_retrasado  hc_pago_todos   \n",
       "0                1                      0                  0              0  \\\n",
       "1                0                      1                  0              0   \n",
       "2                1                      0                  0              0   \n",
       "3                0                      1                  0              0   \n",
       "4                0                      0                  1              0   \n",
       "\n",
       "   hc_sin_creditos  \n",
       "0                0  \n",
       "1                0  \n",
       "2                0  \n",
       "3                0  \n",
       "4                0  "
      ]
     },
     "execution_count": 157,
     "metadata": {},
     "output_type": "execute_result"
    }
   ],
   "source": [
    "dummies_hc = pd.get_dummies(coxdata['historia_crediticia'], prefix = 'hc').astype(int)\n",
    "dummies_hc.head()"
   ]
  },
  {
   "cell_type": "code",
   "execution_count": 158,
   "metadata": {},
   "outputs": [
    {
     "data": {
      "text/html": [
       "<div>\n",
       "<style scoped>\n",
       "    .dataframe tbody tr th:only-of-type {\n",
       "        vertical-align: middle;\n",
       "    }\n",
       "\n",
       "    .dataframe tbody tr th {\n",
       "        vertical-align: top;\n",
       "    }\n",
       "\n",
       "    .dataframe thead th {\n",
       "        text-align: right;\n",
       "    }\n",
       "</style>\n",
       "<table border=\"1\" class=\"dataframe\">\n",
       "  <thead>\n",
       "    <tr style=\"text-align: right;\">\n",
       "      <th></th>\n",
       "      <th>hc_no_ha_pagado</th>\n",
       "      <th>hc_pago_algun_credito</th>\n",
       "      <th>hc_pago_retrasado</th>\n",
       "      <th>hc_sin_creditos</th>\n",
       "    </tr>\n",
       "  </thead>\n",
       "  <tbody>\n",
       "    <tr>\n",
       "      <th>0</th>\n",
       "      <td>1</td>\n",
       "      <td>0</td>\n",
       "      <td>0</td>\n",
       "      <td>0</td>\n",
       "    </tr>\n",
       "    <tr>\n",
       "      <th>1</th>\n",
       "      <td>0</td>\n",
       "      <td>1</td>\n",
       "      <td>0</td>\n",
       "      <td>0</td>\n",
       "    </tr>\n",
       "    <tr>\n",
       "      <th>2</th>\n",
       "      <td>1</td>\n",
       "      <td>0</td>\n",
       "      <td>0</td>\n",
       "      <td>0</td>\n",
       "    </tr>\n",
       "    <tr>\n",
       "      <th>3</th>\n",
       "      <td>0</td>\n",
       "      <td>1</td>\n",
       "      <td>0</td>\n",
       "      <td>0</td>\n",
       "    </tr>\n",
       "    <tr>\n",
       "      <th>4</th>\n",
       "      <td>0</td>\n",
       "      <td>0</td>\n",
       "      <td>1</td>\n",
       "      <td>0</td>\n",
       "    </tr>\n",
       "  </tbody>\n",
       "</table>\n",
       "</div>"
      ],
      "text/plain": [
       "   hc_no_ha_pagado  hc_pago_algun_credito  hc_pago_retrasado  hc_sin_creditos\n",
       "0                1                      0                  0                0\n",
       "1                0                      1                  0                0\n",
       "2                1                      0                  0                0\n",
       "3                0                      1                  0                0\n",
       "4                0                      0                  1                0"
      ]
     },
     "execution_count": 158,
     "metadata": {},
     "output_type": "execute_result"
    }
   ],
   "source": [
    "#quedarse con n-1 dummies, eliminando 'hc_pago_todos'\n",
    "dummies_hc = dummies_hc.drop(columns = 'hc_pago_todos')\n",
    "dummies_hc.head()"
   ]
  },
  {
   "cell_type": "code",
   "execution_count": 159,
   "metadata": {},
   "outputs": [
    {
     "data": {
      "text/plain": [
       "array(['gobierno', 'obrero', 'administrativo', 'desempleado'],\n",
       "      dtype=object)"
      ]
     },
     "execution_count": 159,
     "metadata": {},
     "output_type": "execute_result"
    }
   ],
   "source": [
    "unique_at = coxdata['situacion_laboral'].unique()\n",
    "unique_at"
   ]
  },
  {
   "cell_type": "code",
   "execution_count": 160,
   "metadata": {},
   "outputs": [
    {
     "data": {
      "text/html": [
       "<div>\n",
       "<style scoped>\n",
       "    .dataframe tbody tr th:only-of-type {\n",
       "        vertical-align: middle;\n",
       "    }\n",
       "\n",
       "    .dataframe tbody tr th {\n",
       "        vertical-align: top;\n",
       "    }\n",
       "\n",
       "    .dataframe thead th {\n",
       "        text-align: right;\n",
       "    }\n",
       "</style>\n",
       "<table border=\"1\" class=\"dataframe\">\n",
       "  <thead>\n",
       "    <tr style=\"text-align: right;\">\n",
       "      <th></th>\n",
       "      <th>sl_administrativo</th>\n",
       "      <th>sl_desempleado</th>\n",
       "      <th>sl_gobierno</th>\n",
       "      <th>sl_obrero</th>\n",
       "    </tr>\n",
       "  </thead>\n",
       "  <tbody>\n",
       "    <tr>\n",
       "      <th>0</th>\n",
       "      <td>0</td>\n",
       "      <td>0</td>\n",
       "      <td>1</td>\n",
       "      <td>0</td>\n",
       "    </tr>\n",
       "    <tr>\n",
       "      <th>1</th>\n",
       "      <td>0</td>\n",
       "      <td>0</td>\n",
       "      <td>1</td>\n",
       "      <td>0</td>\n",
       "    </tr>\n",
       "    <tr>\n",
       "      <th>2</th>\n",
       "      <td>0</td>\n",
       "      <td>0</td>\n",
       "      <td>0</td>\n",
       "      <td>1</td>\n",
       "    </tr>\n",
       "    <tr>\n",
       "      <th>3</th>\n",
       "      <td>0</td>\n",
       "      <td>0</td>\n",
       "      <td>1</td>\n",
       "      <td>0</td>\n",
       "    </tr>\n",
       "    <tr>\n",
       "      <th>4</th>\n",
       "      <td>0</td>\n",
       "      <td>0</td>\n",
       "      <td>1</td>\n",
       "      <td>0</td>\n",
       "    </tr>\n",
       "  </tbody>\n",
       "</table>\n",
       "</div>"
      ],
      "text/plain": [
       "   sl_administrativo  sl_desempleado  sl_gobierno  sl_obrero\n",
       "0                  0               0            1          0\n",
       "1                  0               0            1          0\n",
       "2                  0               0            0          1\n",
       "3                  0               0            1          0\n",
       "4                  0               0            1          0"
      ]
     },
     "execution_count": 160,
     "metadata": {},
     "output_type": "execute_result"
    }
   ],
   "source": [
    "dummies_at = pd.get_dummies(coxdata['situacion_laboral'], prefix = 'sl').astype(int)\n",
    "dummies_at.head()"
   ]
  },
  {
   "cell_type": "code",
   "execution_count": 161,
   "metadata": {},
   "outputs": [
    {
     "data": {
      "text/html": [
       "<div>\n",
       "<style scoped>\n",
       "    .dataframe tbody tr th:only-of-type {\n",
       "        vertical-align: middle;\n",
       "    }\n",
       "\n",
       "    .dataframe tbody tr th {\n",
       "        vertical-align: top;\n",
       "    }\n",
       "\n",
       "    .dataframe thead th {\n",
       "        text-align: right;\n",
       "    }\n",
       "</style>\n",
       "<table border=\"1\" class=\"dataframe\">\n",
       "  <thead>\n",
       "    <tr style=\"text-align: right;\">\n",
       "      <th></th>\n",
       "      <th>sl_administrativo</th>\n",
       "      <th>sl_gobierno</th>\n",
       "      <th>sl_obrero</th>\n",
       "    </tr>\n",
       "  </thead>\n",
       "  <tbody>\n",
       "    <tr>\n",
       "      <th>0</th>\n",
       "      <td>0</td>\n",
       "      <td>1</td>\n",
       "      <td>0</td>\n",
       "    </tr>\n",
       "    <tr>\n",
       "      <th>1</th>\n",
       "      <td>0</td>\n",
       "      <td>1</td>\n",
       "      <td>0</td>\n",
       "    </tr>\n",
       "    <tr>\n",
       "      <th>2</th>\n",
       "      <td>0</td>\n",
       "      <td>0</td>\n",
       "      <td>1</td>\n",
       "    </tr>\n",
       "    <tr>\n",
       "      <th>3</th>\n",
       "      <td>0</td>\n",
       "      <td>1</td>\n",
       "      <td>0</td>\n",
       "    </tr>\n",
       "    <tr>\n",
       "      <th>4</th>\n",
       "      <td>0</td>\n",
       "      <td>1</td>\n",
       "      <td>0</td>\n",
       "    </tr>\n",
       "  </tbody>\n",
       "</table>\n",
       "</div>"
      ],
      "text/plain": [
       "   sl_administrativo  sl_gobierno  sl_obrero\n",
       "0                  0            1          0\n",
       "1                  0            1          0\n",
       "2                  0            0          1\n",
       "3                  0            1          0\n",
       "4                  0            1          0"
      ]
     },
     "execution_count": 161,
     "metadata": {},
     "output_type": "execute_result"
    }
   ],
   "source": [
    "# quedarse con n-1 dummies, eliminando 'sl_desempleado'\n",
    "dummies_at = dummies_at.drop(columns= 'sl_desempleado')\n",
    "dummies_at.head()"
   ]
  },
  {
   "cell_type": "markdown",
   "metadata": {},
   "source": [
    "Una vez obtenidos los dummies para estas 3 variables, se procede a eliminar estas mismas columnas del dataframe original, para después concatenar con los dummies y tenerlo en un solo dataframe."
   ]
  },
  {
   "cell_type": "code",
   "execution_count": 162,
   "metadata": {},
   "outputs": [
    {
     "data": {
      "text/html": [
       "<div>\n",
       "<style scoped>\n",
       "    .dataframe tbody tr th:only-of-type {\n",
       "        vertical-align: middle;\n",
       "    }\n",
       "\n",
       "    .dataframe tbody tr th {\n",
       "        vertical-align: top;\n",
       "    }\n",
       "\n",
       "    .dataframe thead th {\n",
       "        text-align: right;\n",
       "    }\n",
       "</style>\n",
       "<table border=\"1\" class=\"dataframe\">\n",
       "  <thead>\n",
       "    <tr style=\"text-align: right;\">\n",
       "      <th></th>\n",
       "      <th>credito_pagado</th>\n",
       "      <th>meses</th>\n",
       "      <th>tasa_de_interes</th>\n",
       "      <th>cantidad</th>\n",
       "      <th>edad</th>\n",
       "      <th>numero_creditos</th>\n",
       "    </tr>\n",
       "  </thead>\n",
       "  <tbody>\n",
       "    <tr>\n",
       "      <th>0</th>\n",
       "      <td>1</td>\n",
       "      <td>6</td>\n",
       "      <td>4</td>\n",
       "      <td>1169</td>\n",
       "      <td>67</td>\n",
       "      <td>2</td>\n",
       "    </tr>\n",
       "    <tr>\n",
       "      <th>1</th>\n",
       "      <td>0</td>\n",
       "      <td>48</td>\n",
       "      <td>2</td>\n",
       "      <td>5951</td>\n",
       "      <td>22</td>\n",
       "      <td>1</td>\n",
       "    </tr>\n",
       "    <tr>\n",
       "      <th>2</th>\n",
       "      <td>1</td>\n",
       "      <td>12</td>\n",
       "      <td>2</td>\n",
       "      <td>2096</td>\n",
       "      <td>49</td>\n",
       "      <td>1</td>\n",
       "    </tr>\n",
       "    <tr>\n",
       "      <th>3</th>\n",
       "      <td>1</td>\n",
       "      <td>42</td>\n",
       "      <td>2</td>\n",
       "      <td>7882</td>\n",
       "      <td>45</td>\n",
       "      <td>1</td>\n",
       "    </tr>\n",
       "    <tr>\n",
       "      <th>4</th>\n",
       "      <td>0</td>\n",
       "      <td>24</td>\n",
       "      <td>3</td>\n",
       "      <td>4870</td>\n",
       "      <td>53</td>\n",
       "      <td>2</td>\n",
       "    </tr>\n",
       "    <tr>\n",
       "      <th>...</th>\n",
       "      <td>...</td>\n",
       "      <td>...</td>\n",
       "      <td>...</td>\n",
       "      <td>...</td>\n",
       "      <td>...</td>\n",
       "      <td>...</td>\n",
       "    </tr>\n",
       "    <tr>\n",
       "      <th>995</th>\n",
       "      <td>1</td>\n",
       "      <td>12</td>\n",
       "      <td>3</td>\n",
       "      <td>1736</td>\n",
       "      <td>31</td>\n",
       "      <td>1</td>\n",
       "    </tr>\n",
       "    <tr>\n",
       "      <th>996</th>\n",
       "      <td>1</td>\n",
       "      <td>30</td>\n",
       "      <td>4</td>\n",
       "      <td>3857</td>\n",
       "      <td>40</td>\n",
       "      <td>1</td>\n",
       "    </tr>\n",
       "    <tr>\n",
       "      <th>997</th>\n",
       "      <td>1</td>\n",
       "      <td>12</td>\n",
       "      <td>4</td>\n",
       "      <td>804</td>\n",
       "      <td>38</td>\n",
       "      <td>1</td>\n",
       "    </tr>\n",
       "    <tr>\n",
       "      <th>998</th>\n",
       "      <td>0</td>\n",
       "      <td>45</td>\n",
       "      <td>4</td>\n",
       "      <td>1845</td>\n",
       "      <td>23</td>\n",
       "      <td>1</td>\n",
       "    </tr>\n",
       "    <tr>\n",
       "      <th>999</th>\n",
       "      <td>1</td>\n",
       "      <td>45</td>\n",
       "      <td>3</td>\n",
       "      <td>4576</td>\n",
       "      <td>27</td>\n",
       "      <td>1</td>\n",
       "    </tr>\n",
       "  </tbody>\n",
       "</table>\n",
       "<p>1000 rows × 6 columns</p>\n",
       "</div>"
      ],
      "text/plain": [
       "     credito_pagado  meses  tasa_de_interes  cantidad  edad  numero_creditos\n",
       "0                 1      6                4      1169    67                2\n",
       "1                 0     48                2      5951    22                1\n",
       "2                 1     12                2      2096    49                1\n",
       "3                 1     42                2      7882    45                1\n",
       "4                 0     24                3      4870    53                2\n",
       "..              ...    ...              ...       ...   ...              ...\n",
       "995               1     12                3      1736    31                1\n",
       "996               1     30                4      3857    40                1\n",
       "997               1     12                4       804    38                1\n",
       "998               0     45                4      1845    23                1\n",
       "999               1     45                3      4576    27                1\n",
       "\n",
       "[1000 rows x 6 columns]"
      ]
     },
     "execution_count": 162,
     "metadata": {},
     "output_type": "execute_result"
    }
   ],
   "source": [
    "coxdata = coxdata.drop(columns= ['historia_crediticia', 'situacion_laboral'])\n",
    "coxdata"
   ]
  },
  {
   "cell_type": "code",
   "execution_count": 163,
   "metadata": {},
   "outputs": [
    {
     "data": {
      "text/html": [
       "<div>\n",
       "<style scoped>\n",
       "    .dataframe tbody tr th:only-of-type {\n",
       "        vertical-align: middle;\n",
       "    }\n",
       "\n",
       "    .dataframe tbody tr th {\n",
       "        vertical-align: top;\n",
       "    }\n",
       "\n",
       "    .dataframe thead th {\n",
       "        text-align: right;\n",
       "    }\n",
       "</style>\n",
       "<table border=\"1\" class=\"dataframe\">\n",
       "  <thead>\n",
       "    <tr style=\"text-align: right;\">\n",
       "      <th></th>\n",
       "      <th>credito_pagado</th>\n",
       "      <th>meses</th>\n",
       "      <th>tasa_de_interes</th>\n",
       "      <th>cantidad</th>\n",
       "      <th>edad</th>\n",
       "      <th>numero_creditos</th>\n",
       "      <th>hc_no_ha_pagado</th>\n",
       "      <th>hc_pago_algun_credito</th>\n",
       "      <th>hc_pago_retrasado</th>\n",
       "      <th>hc_sin_creditos</th>\n",
       "      <th>sl_administrativo</th>\n",
       "      <th>sl_gobierno</th>\n",
       "      <th>sl_obrero</th>\n",
       "    </tr>\n",
       "  </thead>\n",
       "  <tbody>\n",
       "    <tr>\n",
       "      <th>0</th>\n",
       "      <td>1</td>\n",
       "      <td>6</td>\n",
       "      <td>4</td>\n",
       "      <td>1169</td>\n",
       "      <td>67</td>\n",
       "      <td>2</td>\n",
       "      <td>1</td>\n",
       "      <td>0</td>\n",
       "      <td>0</td>\n",
       "      <td>0</td>\n",
       "      <td>0</td>\n",
       "      <td>1</td>\n",
       "      <td>0</td>\n",
       "    </tr>\n",
       "    <tr>\n",
       "      <th>1</th>\n",
       "      <td>0</td>\n",
       "      <td>48</td>\n",
       "      <td>2</td>\n",
       "      <td>5951</td>\n",
       "      <td>22</td>\n",
       "      <td>1</td>\n",
       "      <td>0</td>\n",
       "      <td>1</td>\n",
       "      <td>0</td>\n",
       "      <td>0</td>\n",
       "      <td>0</td>\n",
       "      <td>1</td>\n",
       "      <td>0</td>\n",
       "    </tr>\n",
       "    <tr>\n",
       "      <th>2</th>\n",
       "      <td>1</td>\n",
       "      <td>12</td>\n",
       "      <td>2</td>\n",
       "      <td>2096</td>\n",
       "      <td>49</td>\n",
       "      <td>1</td>\n",
       "      <td>1</td>\n",
       "      <td>0</td>\n",
       "      <td>0</td>\n",
       "      <td>0</td>\n",
       "      <td>0</td>\n",
       "      <td>0</td>\n",
       "      <td>1</td>\n",
       "    </tr>\n",
       "    <tr>\n",
       "      <th>3</th>\n",
       "      <td>1</td>\n",
       "      <td>42</td>\n",
       "      <td>2</td>\n",
       "      <td>7882</td>\n",
       "      <td>45</td>\n",
       "      <td>1</td>\n",
       "      <td>0</td>\n",
       "      <td>1</td>\n",
       "      <td>0</td>\n",
       "      <td>0</td>\n",
       "      <td>0</td>\n",
       "      <td>1</td>\n",
       "      <td>0</td>\n",
       "    </tr>\n",
       "    <tr>\n",
       "      <th>4</th>\n",
       "      <td>0</td>\n",
       "      <td>24</td>\n",
       "      <td>3</td>\n",
       "      <td>4870</td>\n",
       "      <td>53</td>\n",
       "      <td>2</td>\n",
       "      <td>0</td>\n",
       "      <td>0</td>\n",
       "      <td>1</td>\n",
       "      <td>0</td>\n",
       "      <td>0</td>\n",
       "      <td>1</td>\n",
       "      <td>0</td>\n",
       "    </tr>\n",
       "  </tbody>\n",
       "</table>\n",
       "</div>"
      ],
      "text/plain": [
       "   credito_pagado  meses  tasa_de_interes  cantidad  edad  numero_creditos   \n",
       "0               1      6                4      1169    67                2  \\\n",
       "1               0     48                2      5951    22                1   \n",
       "2               1     12                2      2096    49                1   \n",
       "3               1     42                2      7882    45                1   \n",
       "4               0     24                3      4870    53                2   \n",
       "\n",
       "   hc_no_ha_pagado  hc_pago_algun_credito  hc_pago_retrasado  hc_sin_creditos   \n",
       "0                1                      0                  0                0  \\\n",
       "1                0                      1                  0                0   \n",
       "2                1                      0                  0                0   \n",
       "3                0                      1                  0                0   \n",
       "4                0                      0                  1                0   \n",
       "\n",
       "   sl_administrativo  sl_gobierno  sl_obrero  \n",
       "0                  0            1          0  \n",
       "1                  0            1          0  \n",
       "2                  0            0          1  \n",
       "3                  0            1          0  \n",
       "4                  0            1          0  "
      ]
     },
     "execution_count": 163,
     "metadata": {},
     "output_type": "execute_result"
    }
   ],
   "source": [
    "coxdata = pd.concat([coxdata, dummies_hc, dummies_at], axis = 1) \n",
    "coxdata.head(5)"
   ]
  },
  {
   "cell_type": "markdown",
   "metadata": {},
   "source": [
    "Una vez obtenido el dataframe con los dummies, se procede a hacer el modelo de Cox."
   ]
  },
  {
   "cell_type": "code",
   "execution_count": 164,
   "metadata": {},
   "outputs": [
    {
     "data": {
      "text/html": [
       "<div>\n",
       "<style scoped>\n",
       "    .dataframe tbody tr th:only-of-type {\n",
       "        vertical-align: middle;\n",
       "    }\n",
       "\n",
       "    .dataframe tbody tr th {\n",
       "        vertical-align: top;\n",
       "    }\n",
       "\n",
       "    .dataframe thead th {\n",
       "        text-align: right;\n",
       "    }\n",
       "</style>\n",
       "<table border=\"1\" class=\"dataframe\">\n",
       "  <tbody>\n",
       "    <tr>\n",
       "      <th>model</th>\n",
       "      <td>lifelines.CoxPHFitter</td>\n",
       "    </tr>\n",
       "    <tr>\n",
       "      <th>duration col</th>\n",
       "      <td>'meses'</td>\n",
       "    </tr>\n",
       "    <tr>\n",
       "      <th>event col</th>\n",
       "      <td>'credito_pagado'</td>\n",
       "    </tr>\n",
       "    <tr>\n",
       "      <th>baseline estimation</th>\n",
       "      <td>breslow</td>\n",
       "    </tr>\n",
       "    <tr>\n",
       "      <th>number of observations</th>\n",
       "      <td>1000</td>\n",
       "    </tr>\n",
       "    <tr>\n",
       "      <th>number of events observed</th>\n",
       "      <td>700</td>\n",
       "    </tr>\n",
       "    <tr>\n",
       "      <th>partial log-likelihood</th>\n",
       "      <td>-4028.69</td>\n",
       "    </tr>\n",
       "    <tr>\n",
       "      <th>time fit was run</th>\n",
       "      <td>2023-10-06 00:02:54 UTC</td>\n",
       "    </tr>\n",
       "  </tbody>\n",
       "</table>\n",
       "</div><table border=\"1\" class=\"dataframe\">\n",
       "  <thead>\n",
       "    <tr style=\"text-align: right;\">\n",
       "      <th style=\"min-width: 12px;\"></th>\n",
       "      <th style=\"min-width: 12px;\">coef</th>\n",
       "      <th style=\"min-width: 12px;\">exp(coef)</th>\n",
       "      <th style=\"min-width: 12px;\">se(coef)</th>\n",
       "      <th style=\"min-width: 12px;\">coef lower 95%</th>\n",
       "      <th style=\"min-width: 12px;\">coef upper 95%</th>\n",
       "      <th style=\"min-width: 12px;\">exp(coef) lower 95%</th>\n",
       "      <th style=\"min-width: 12px;\">exp(coef) upper 95%</th>\n",
       "      <th style=\"min-width: 12px;\">cmp to</th>\n",
       "      <th style=\"min-width: 12px;\">z</th>\n",
       "      <th style=\"min-width: 12px;\">p</th>\n",
       "      <th style=\"min-width: 12px;\">-log2(p)</th>\n",
       "    </tr>\n",
       "  </thead>\n",
       "  <tbody>\n",
       "    <tr>\n",
       "      <th>tasa_de_interes</th>\n",
       "      <td>-0.45</td>\n",
       "      <td>0.64</td>\n",
       "      <td>0.04</td>\n",
       "      <td>-0.52</td>\n",
       "      <td>-0.37</td>\n",
       "      <td>0.59</td>\n",
       "      <td>0.69</td>\n",
       "      <td>0.00</td>\n",
       "      <td>-11.90</td>\n",
       "      <td>&lt;0.005</td>\n",
       "      <td>106.03</td>\n",
       "    </tr>\n",
       "    <tr>\n",
       "      <th>cantidad</th>\n",
       "      <td>-0.00</td>\n",
       "      <td>1.00</td>\n",
       "      <td>0.00</td>\n",
       "      <td>-0.00</td>\n",
       "      <td>-0.00</td>\n",
       "      <td>1.00</td>\n",
       "      <td>1.00</td>\n",
       "      <td>0.00</td>\n",
       "      <td>-16.03</td>\n",
       "      <td>&lt;0.005</td>\n",
       "      <td>189.77</td>\n",
       "    </tr>\n",
       "    <tr>\n",
       "      <th>edad</th>\n",
       "      <td>0.01</td>\n",
       "      <td>1.01</td>\n",
       "      <td>0.00</td>\n",
       "      <td>0.01</td>\n",
       "      <td>0.02</td>\n",
       "      <td>1.01</td>\n",
       "      <td>1.02</td>\n",
       "      <td>0.00</td>\n",
       "      <td>3.71</td>\n",
       "      <td>&lt;0.005</td>\n",
       "      <td>12.26</td>\n",
       "    </tr>\n",
       "    <tr>\n",
       "      <th>numero_creditos</th>\n",
       "      <td>0.03</td>\n",
       "      <td>1.03</td>\n",
       "      <td>0.08</td>\n",
       "      <td>-0.13</td>\n",
       "      <td>0.19</td>\n",
       "      <td>0.87</td>\n",
       "      <td>1.21</td>\n",
       "      <td>0.00</td>\n",
       "      <td>0.35</td>\n",
       "      <td>0.72</td>\n",
       "      <td>0.47</td>\n",
       "    </tr>\n",
       "    <tr>\n",
       "      <th>hc_no_ha_pagado</th>\n",
       "      <td>1.00</td>\n",
       "      <td>2.71</td>\n",
       "      <td>0.24</td>\n",
       "      <td>0.53</td>\n",
       "      <td>1.46</td>\n",
       "      <td>1.70</td>\n",
       "      <td>4.31</td>\n",
       "      <td>0.00</td>\n",
       "      <td>4.21</td>\n",
       "      <td>&lt;0.005</td>\n",
       "      <td>15.24</td>\n",
       "    </tr>\n",
       "    <tr>\n",
       "      <th>hc_pago_algun_credito</th>\n",
       "      <td>0.62</td>\n",
       "      <td>1.85</td>\n",
       "      <td>0.23</td>\n",
       "      <td>0.17</td>\n",
       "      <td>1.06</td>\n",
       "      <td>1.19</td>\n",
       "      <td>2.89</td>\n",
       "      <td>0.00</td>\n",
       "      <td>2.72</td>\n",
       "      <td>0.01</td>\n",
       "      <td>7.27</td>\n",
       "    </tr>\n",
       "    <tr>\n",
       "      <th>hc_pago_retrasado</th>\n",
       "      <td>0.42</td>\n",
       "      <td>1.52</td>\n",
       "      <td>0.26</td>\n",
       "      <td>-0.09</td>\n",
       "      <td>0.93</td>\n",
       "      <td>0.91</td>\n",
       "      <td>2.55</td>\n",
       "      <td>0.00</td>\n",
       "      <td>1.61</td>\n",
       "      <td>0.11</td>\n",
       "      <td>3.22</td>\n",
       "    </tr>\n",
       "    <tr>\n",
       "      <th>hc_sin_creditos</th>\n",
       "      <td>-0.06</td>\n",
       "      <td>0.94</td>\n",
       "      <td>0.34</td>\n",
       "      <td>-0.74</td>\n",
       "      <td>0.61</td>\n",
       "      <td>0.48</td>\n",
       "      <td>1.84</td>\n",
       "      <td>0.00</td>\n",
       "      <td>-0.18</td>\n",
       "      <td>0.85</td>\n",
       "      <td>0.23</td>\n",
       "    </tr>\n",
       "    <tr>\n",
       "      <th>sl_administrativo</th>\n",
       "      <td>0.63</td>\n",
       "      <td>1.88</td>\n",
       "      <td>0.29</td>\n",
       "      <td>0.06</td>\n",
       "      <td>1.21</td>\n",
       "      <td>1.06</td>\n",
       "      <td>3.34</td>\n",
       "      <td>0.00</td>\n",
       "      <td>2.16</td>\n",
       "      <td>0.03</td>\n",
       "      <td>5.04</td>\n",
       "    </tr>\n",
       "    <tr>\n",
       "      <th>sl_gobierno</th>\n",
       "      <td>0.38</td>\n",
       "      <td>1.46</td>\n",
       "      <td>0.28</td>\n",
       "      <td>-0.16</td>\n",
       "      <td>0.92</td>\n",
       "      <td>0.85</td>\n",
       "      <td>2.50</td>\n",
       "      <td>0.00</td>\n",
       "      <td>1.37</td>\n",
       "      <td>0.17</td>\n",
       "      <td>2.55</td>\n",
       "    </tr>\n",
       "    <tr>\n",
       "      <th>sl_obrero</th>\n",
       "      <td>0.62</td>\n",
       "      <td>1.86</td>\n",
       "      <td>0.28</td>\n",
       "      <td>0.07</td>\n",
       "      <td>1.17</td>\n",
       "      <td>1.07</td>\n",
       "      <td>3.22</td>\n",
       "      <td>0.00</td>\n",
       "      <td>2.20</td>\n",
       "      <td>0.03</td>\n",
       "      <td>5.16</td>\n",
       "    </tr>\n",
       "  </tbody>\n",
       "</table><br><div>\n",
       "<style scoped>\n",
       "    .dataframe tbody tr th:only-of-type {\n",
       "        vertical-align: middle;\n",
       "    }\n",
       "\n",
       "    .dataframe tbody tr th {\n",
       "        vertical-align: top;\n",
       "    }\n",
       "\n",
       "    .dataframe thead th {\n",
       "        text-align: right;\n",
       "    }\n",
       "</style>\n",
       "<table border=\"1\" class=\"dataframe\">\n",
       "  <tbody>\n",
       "    <tr>\n",
       "      <th>Concordance</th>\n",
       "      <td>0.79</td>\n",
       "    </tr>\n",
       "    <tr>\n",
       "      <th>Partial AIC</th>\n",
       "      <td>8079.38</td>\n",
       "    </tr>\n",
       "    <tr>\n",
       "      <th>log-likelihood ratio test</th>\n",
       "      <td>481.39 on 11 df</td>\n",
       "    </tr>\n",
       "    <tr>\n",
       "      <th>-log2(p) of ll-ratio test</th>\n",
       "      <td>317.33</td>\n",
       "    </tr>\n",
       "  </tbody>\n",
       "</table>\n",
       "</div>"
      ],
      "text/latex": [
       "\\begin{tabular}{lrrrrrrrrrrr}\n",
       " & coef & exp(coef) & se(coef) & coef lower 95% & coef upper 95% & exp(coef) lower 95% & exp(coef) upper 95% & cmp to & z & p & -log2(p) \\\\\n",
       "covariate &  &  &  &  &  &  &  &  &  &  &  \\\\\n",
       "tasa_de_interes & -0.45 & 0.64 & 0.04 & -0.52 & -0.37 & 0.59 & 0.69 & 0.00 & -11.90 & 0.00 & 106.03 \\\\\n",
       "cantidad & -0.00 & 1.00 & 0.00 & -0.00 & -0.00 & 1.00 & 1.00 & 0.00 & -16.03 & 0.00 & 189.77 \\\\\n",
       "edad & 0.01 & 1.01 & 0.00 & 0.01 & 0.02 & 1.01 & 1.02 & 0.00 & 3.71 & 0.00 & 12.26 \\\\\n",
       "numero_creditos & 0.03 & 1.03 & 0.08 & -0.13 & 0.19 & 0.87 & 1.21 & 0.00 & 0.35 & 0.72 & 0.47 \\\\\n",
       "hc_no_ha_pagado & 1.00 & 2.71 & 0.24 & 0.53 & 1.46 & 1.70 & 4.31 & 0.00 & 4.21 & 0.00 & 15.24 \\\\\n",
       "hc_pago_algun_credito & 0.62 & 1.85 & 0.23 & 0.17 & 1.06 & 1.19 & 2.89 & 0.00 & 2.72 & 0.01 & 7.27 \\\\\n",
       "hc_pago_retrasado & 0.42 & 1.52 & 0.26 & -0.09 & 0.93 & 0.91 & 2.55 & 0.00 & 1.61 & 0.11 & 3.22 \\\\\n",
       "hc_sin_creditos & -0.06 & 0.94 & 0.34 & -0.74 & 0.61 & 0.48 & 1.84 & 0.00 & -0.18 & 0.85 & 0.23 \\\\\n",
       "sl_administrativo & 0.63 & 1.88 & 0.29 & 0.06 & 1.21 & 1.06 & 3.34 & 0.00 & 2.16 & 0.03 & 5.04 \\\\\n",
       "sl_gobierno & 0.38 & 1.46 & 0.28 & -0.16 & 0.92 & 0.85 & 2.50 & 0.00 & 1.37 & 0.17 & 2.55 \\\\\n",
       "sl_obrero & 0.62 & 1.86 & 0.28 & 0.07 & 1.17 & 1.07 & 3.22 & 0.00 & 2.20 & 0.03 & 5.16 \\\\\n",
       "\\end{tabular}\n"
      ],
      "text/plain": [
       "<lifelines.CoxPHFitter: fitted with 1000 total observations, 300 right-censored observations>\n",
       "             duration col = 'meses'\n",
       "                event col = 'credito_pagado'\n",
       "      baseline estimation = breslow\n",
       "   number of observations = 1000\n",
       "number of events observed = 700\n",
       "   partial log-likelihood = -4028.69\n",
       "         time fit was run = 2023-10-06 00:02:54 UTC\n",
       "\n",
       "---\n",
       "                        coef  exp(coef)   se(coef)   coef lower 95%   coef upper 95%  exp(coef) lower 95%  exp(coef) upper 95%\n",
       "covariate                                                                                                                     \n",
       "tasa_de_interes        -0.45       0.64       0.04            -0.52            -0.37                 0.59                 0.69\n",
       "cantidad               -0.00       1.00       0.00            -0.00            -0.00                 1.00                 1.00\n",
       "edad                    0.01       1.01       0.00             0.01             0.02                 1.01                 1.02\n",
       "numero_creditos         0.03       1.03       0.08            -0.13             0.19                 0.87                 1.21\n",
       "hc_no_ha_pagado         1.00       2.71       0.24             0.53             1.46                 1.70                 4.31\n",
       "hc_pago_algun_credito   0.62       1.85       0.23             0.17             1.06                 1.19                 2.89\n",
       "hc_pago_retrasado       0.42       1.52       0.26            -0.09             0.93                 0.91                 2.55\n",
       "hc_sin_creditos        -0.06       0.94       0.34            -0.74             0.61                 0.48                 1.84\n",
       "sl_administrativo       0.63       1.88       0.29             0.06             1.21                 1.06                 3.34\n",
       "sl_gobierno             0.38       1.46       0.28            -0.16             0.92                 0.85                 2.50\n",
       "sl_obrero               0.62       1.86       0.28             0.07             1.17                 1.07                 3.22\n",
       "\n",
       "                        cmp to      z      p   -log2(p)\n",
       "covariate                                              \n",
       "tasa_de_interes           0.00 -11.90 <0.005     106.03\n",
       "cantidad                  0.00 -16.03 <0.005     189.77\n",
       "edad                      0.00   3.71 <0.005      12.26\n",
       "numero_creditos           0.00   0.35   0.72       0.47\n",
       "hc_no_ha_pagado           0.00   4.21 <0.005      15.24\n",
       "hc_pago_algun_credito     0.00   2.72   0.01       7.27\n",
       "hc_pago_retrasado         0.00   1.61   0.11       3.22\n",
       "hc_sin_creditos           0.00  -0.18   0.85       0.23\n",
       "sl_administrativo         0.00   2.16   0.03       5.04\n",
       "sl_gobierno               0.00   1.37   0.17       2.55\n",
       "sl_obrero                 0.00   2.20   0.03       5.16\n",
       "---\n",
       "Concordance = 0.79\n",
       "Partial AIC = 8079.38\n",
       "log-likelihood ratio test = 481.39 on 11 df\n",
       "-log2(p) of ll-ratio test = 317.33"
      ]
     },
     "metadata": {},
     "output_type": "display_data"
    }
   ],
   "source": [
    "cox1 = CoxPHFitter().fit(coxdata, 'meses', 'credito_pagado')\n",
    "cox1.print_summary()"
   ]
  },
  {
   "cell_type": "code",
   "execution_count": 165,
   "metadata": {},
   "outputs": [
    {
     "data": {
      "text/plain": [
       "covariate\n",
       "tasa_de_interes         -0.448345\n",
       "cantidad                -0.000391\n",
       "edad                     0.012856\n",
       "numero_creditos          0.029649\n",
       "hc_no_ha_pagado          0.996219\n",
       "hc_pago_algun_credito    0.617541\n",
       "hc_pago_retrasado        0.421646\n",
       "hc_sin_creditos         -0.062864\n",
       "sl_administrativo        0.632440\n",
       "sl_gobierno              0.377390\n",
       "sl_obrero                0.618408\n",
       "Name: coef, dtype: float64"
      ]
     },
     "execution_count": 165,
     "metadata": {},
     "output_type": "execute_result"
    }
   ],
   "source": [
    "## coeficientes sin redondear\n",
    "cox1.params_"
   ]
  },
  {
   "cell_type": "code",
   "execution_count": 166,
   "metadata": {},
   "outputs": [
    {
     "data": {
      "text/plain": [
       "covariate\n",
       "tasa_de_interes          0.638684\n",
       "cantidad                 0.999609\n",
       "edad                     1.012939\n",
       "numero_creditos          1.030093\n",
       "hc_no_ha_pagado          2.708024\n",
       "hc_pago_algun_credito    1.854362\n",
       "hc_pago_retrasado        1.524469\n",
       "hc_sin_creditos          0.939072\n",
       "sl_administrativo        1.882198\n",
       "sl_gobierno              1.458473\n",
       "sl_obrero                1.855970\n",
       "Name: exp(coef), dtype: float64"
      ]
     },
     "execution_count": 166,
     "metadata": {},
     "output_type": "execute_result"
    }
   ],
   "source": [
    "## exp(coef) sin redondear\n",
    "cox1.hazard_ratios_"
   ]
  },
  {
   "cell_type": "markdown",
   "metadata": {},
   "source": [
    "Ahora se procede con la interpretación de las variables, para determinar si afectan al evento (que se pague el crédito), y en caso que sea así, si aumentan o disminuyen el riesgo y en qué forma."
   ]
  },
  {
   "cell_type": "markdown",
   "metadata": {},
   "source": [
    "##### Interpretación de coeficientes\n",
    "\n",
    "Comenzando por establecer las hipótesis:\n",
    "\n",
    "$H_o$: La variable no afecta\n",
    "\n",
    "$H_a$: La variable tiene un efecto sobre que los empleados renuncien \n",
    "\n",
    "Estableciendo un valor alfa = 0.05\n",
    "\n",
    "Las variables que no tienen algún efecto sobre que los empleados renuncien son:\n",
    "\n",
    "- **numero_creditos** -> P-value = 0.72 > alfa = 0.05.  El número de créditos que ha solicitado no influye en el riesgo que se pague por completo el préstamo.\n",
    "- **hc_pago_retrasado** -> P-value = 0.11 > alfa = 0.05.  Que el historial crediticio marque \"pago retrasado\" contra tenerlo en \"pago_todos\" no influye en el riesgo que se pague por completo el préstamo.\n",
    "- **hc_sin_creditos** -> P-value = 0.85 > alfa = 0.05.  Que el historial crediticio marque \"sin_creditos\" contra tenerlo en \"pago_todos\" no influye en el riesgo que se pague por completo el préstamo.\n",
    "- **sl_gobierno** -> P-value = 0.17 > alfa = 0.05.  Que la situación laboral marque \"gobierno\" contra estar desempleado no influye en el riesgo que se pague por completo el préstamo."
   ]
  },
  {
   "cell_type": "markdown",
   "metadata": {},
   "source": [
    "Entonces, para las variables significativas:\n",
    "\n",
    "**tasa_de_interes** -> P-value < 0.005 < alfa = 0.05\n",
    "\n",
    "Dado que el coef = -0.446856 < 0, una menor tasa de interés aumenta el riesgo que se pague el préstamo en su totalidad."
   ]
  },
  {
   "cell_type": "code",
   "execution_count": 167,
   "metadata": {},
   "outputs": [
    {
     "data": {
      "text/plain": [
       "0.3613"
      ]
     },
     "execution_count": 167,
     "metadata": {},
     "output_type": "execute_result"
    }
   ],
   "source": [
    "p = (1-cox1.hazard_ratios_['tasa_de_interes']).round(4)\n",
    "p"
   ]
  },
  {
   "cell_type": "markdown",
   "metadata": {},
   "source": [
    "El riesgo de que el préstamo se pague en su totalidad reduce un 36.13% por cada 100pb (1%) de tasa de interés del préstamo.\n",
    "\n",
    "**cantidad** -> P-value < 0.005 < alfa = 0.05\n",
    "\n",
    "Dado que el coef = -0.000386 < 0, una menor cantidad prestada aumenta el riesgo que se pague el préstamo en su totalidad."
   ]
  },
  {
   "cell_type": "code",
   "execution_count": 168,
   "metadata": {},
   "outputs": [
    {
     "data": {
      "text/plain": [
       "0.0004"
      ]
     },
     "execution_count": 168,
     "metadata": {},
     "output_type": "execute_result"
    }
   ],
   "source": [
    "p = (1 - cox1.hazard_ratios_['cantidad']).round(4)\n",
    "p"
   ]
  },
  {
   "cell_type": "markdown",
   "metadata": {},
   "source": [
    "El riesgo que el préstamo se pague en su totalidad reduce un 0.04% por cada Euro prestado.\n",
    "\n",
    "**edad** -> P-value < 0.005 < alfa = 0.05\n",
    "\n",
    "Dado que el coef = 0.012856 > 0, una mayor edad aumenta el riesgo que se pague el préstamo en su totalidad."
   ]
  },
  {
   "cell_type": "code",
   "execution_count": 169,
   "metadata": {},
   "outputs": [
    {
     "data": {
      "text/plain": [
       "0.0129"
      ]
     },
     "execution_count": 169,
     "metadata": {},
     "output_type": "execute_result"
    }
   ],
   "source": [
    "p = (cox1.hazard_ratios_['edad']-1).round(4)\n",
    "p"
   ]
  },
  {
   "cell_type": "markdown",
   "metadata": {},
   "source": [
    "El riesgo que el préstamo se pague en su totalidad aumenta un 1.29% por cada año de edad del cliente.\n",
    "\n",
    "**hc_no_ha_pagado** -> P-value < 0.005 < alfa = 0.05\n",
    "\n",
    "Dado que el coef = 0.996219 > 0, el tener el historial crediticio como \"no ha pagado\" contra \"pago_todos\" aumenta el riesgo que el préstamo se pague en su totalidad."
   ]
  },
  {
   "cell_type": "code",
   "execution_count": 170,
   "metadata": {},
   "outputs": [
    {
     "data": {
      "text/plain": [
       "1.708"
      ]
     },
     "execution_count": 170,
     "metadata": {},
     "output_type": "execute_result"
    }
   ],
   "source": [
    "p = (cox1.hazard_ratios_['hc_no_ha_pagado']-1).round(4)\n",
    "p"
   ]
  },
  {
   "cell_type": "markdown",
   "metadata": {},
   "source": [
    "El riesgo que el préstamo se pague en su totalidad aumenta un 170.8% al tener en historial crediticio \"no ha pagado\" contra tenerlo en \"pago todos\".\n",
    "\n",
    "**hc_pago_algun_credito** -> P-value = 0.02 < alfa = 0.05\n",
    "\n",
    "Dado que el coef = 0.617541 > 0, el tener el historial crediticio como \"pagó algún crédito\" contra \"pago_todos\" aumenta el riesgo que se pague por completo el préstamo."
   ]
  },
  {
   "cell_type": "code",
   "execution_count": 171,
   "metadata": {},
   "outputs": [
    {
     "data": {
      "text/plain": [
       "0.8544"
      ]
     },
     "execution_count": 171,
     "metadata": {},
     "output_type": "execute_result"
    }
   ],
   "source": [
    "p = (cox1.hazard_ratios_['hc_pago_algun_credito']-1).round(4)\n",
    "p"
   ]
  },
  {
   "cell_type": "markdown",
   "metadata": {},
   "source": [
    "El riesgo que el préstamo se pague en su totalidad aumenta un 85.44% al tener en historial crediticio \"pagó algún crédito\" contra tenerlo en \"pago_todos\".\n",
    "\n",
    "**sl_administrativo** -> P-value = 0.03 < alfa 0.05\n",
    "\n",
    "Dado que el coef  = 0.632440 > 0, estar trabajando en área administrativa aumenta el riesgo de pagar el crédito en su totalidad, esto comparado a estar desempleado."
   ]
  },
  {
   "cell_type": "code",
   "execution_count": 172,
   "metadata": {},
   "outputs": [
    {
     "data": {
      "text/plain": [
       "0.8822"
      ]
     },
     "execution_count": 172,
     "metadata": {},
     "output_type": "execute_result"
    }
   ],
   "source": [
    "p = (cox1.hazard_ratios_['sl_administrativo']-1).round(4)\n",
    "p"
   ]
  },
  {
   "cell_type": "markdown",
   "metadata": {},
   "source": [
    "El riesgo que el préstamo se pague en su totalidad aumenta un 88.22% al trabajar en el sector administrativo, comparado a estar desempleado.\n",
    "\n",
    "**sl_obrero** -> P-value = 0.03 < alfa 0.05\n",
    "\n",
    "Dado que el coef  = 0.618408 > 0, estar trabajando en área obrera aumenta el riesgo de pagar el crédito en su totalidad, esto comparado a estar desempleado."
   ]
  },
  {
   "cell_type": "code",
   "execution_count": 173,
   "metadata": {},
   "outputs": [
    {
     "data": {
      "text/plain": [
       "0.856"
      ]
     },
     "execution_count": 173,
     "metadata": {},
     "output_type": "execute_result"
    }
   ],
   "source": [
    "p = (cox1.hazard_ratios_['sl_obrero']-1).round(4)\n",
    "p"
   ]
  },
  {
   "cell_type": "markdown",
   "metadata": {},
   "source": [
    "El riesgo que el préstamo se pague en su totalidad aumenta un 85.6% al trabajar en el área obrero, comparado a estar desempleado."
   ]
  },
  {
   "cell_type": "markdown",
   "metadata": {},
   "source": [
    "De todas las variables seleccionadas inicialmente, la única que no tuvo impacto sobre el evento fue el número de créditos, lo que indica que en el Banco de Ilusión no suele ser algo de medir o ver cuando alguien paga su crédito e incluso cuando se otorga uno."
   ]
  },
  {
   "cell_type": "markdown",
   "metadata": {},
   "source": [
    "### 5. Con base en los cálculos realizados, redacta un comentario integral de por lo menos 250 palabras que resuma el análisis, reflexiones y recomendaciones sobre la política de otorgamiento de créditos en el Banco de la Ilusión"
   ]
  },
  {
   "cell_type": "markdown",
   "metadata": {},
   "source": [
    "El caso presentado en el Banco de la Ilusión respecto al pago de créditos otorgados permite encontrar distintos enfoques que, a pesar de ser muy diversos, da información útil.\n",
    "\n",
    "Que entre todos los registros, el tiempo promedio de pago en su totalidad sea de 19 meses, da a entender que el crédito en promedio no está visto para ser utilizado en un largo plazo sino para alguna posible emergencia que requiera del uso de un dinero con el que no se cuenta en ese momento.  Esto también se refleja con la cantidad promedio prestada, pues es una cantidad no muy alta considerando salarios promedios mensuales de países europeos.\n",
    "\n",
    "El haber buscado la mediana de tiempo en pagar en su totalidad el préstamo haciendo uso del modelo de Kaplan Meier respalda esto mismo, pues aunque la mediana es mayor que el promedio de toda la base de datos, sigue siendo una cantidad de meses que pudiera considerarse como no largo plazo.\n",
    "\n",
    "Lo que la función de riesgo nos dice con el modelo mejor ajustado es que, el riesgo de que el evento suceda tiene su punto máximo entre los 20 meses de edad del crédito, y a partir de allí comienza a decrecer con mayor lentitud que respecto a un crédito \"joven\", eso implica que no muchos clientes comienzan a pagar hasta pasado al menos un año de haber sacado el crédito, pero una vez pasados los 20 meses es más probable que se dé el evento y que paguen el crédito.\n",
    "\n",
    "El modelo de Cox puede proporcionar más información al involucrar más variables, más allá de únicamente el tiempo y el evento en cuestión.  Con las variables seleccionadas, el modelo regresó que factores un tanto \"predecibles\" como la tasa de interés y la cantidad prestada influyen de forma inversa, que a menor de ambos el riesgo de poder pagarse este préstamo en su totalidad era mayor.  La edad, en cambio, mantenía una relación directa respecto al riesgo de pagar el préstamo, lo cual puede sustentarse en una \"madurez\" mayor conforme las personas van creciendo, aunque no siempre es de esta forma.  Resultó curioso observar que el número de créditos que el cliente ha tenido no influye en el riesgo pues, contando otros factores como si ese número de créditos los ha pagado en su totalidad, si alguien cuenta con un número mayor de créditos en su perfil, suele ser porque su historial crediticio es bueno y, los paga.\n",
    "\n",
    "La mejor recomendación que pudiera hacer hacia el Banco de la Ilusión es que determinen bien a qué sector de personas quieren dirigirse, y esto irá muy acorde al nivel de riesgo al que quieren estar expuestos, pues con el registro actual se tiene que las personas mayores, con una tasa de interés baja, que lleven tiempo trabajando considerable y que tengan registrado haber pagado algún crédito son las que suelen pagar en su totalidad.  Pero tomando en cuenta esto, tasas de interés bajas impiden que exista gran ganancia para el banco, una recomendación podría ser aumentar las tasas a aquellos clientes que no cumplan en su totalidad requisitos como haber trabajado varios años o haber pagado anteriormente ya otros créditos.  Clientes potenciales como los jóvenes que necesitan obtener un crédito por primera vez podrían verse interesados por estos productos, aunque las tasas sean algo más altas, pero considerando que esto puede significar en filtros más accesibles para ser aceptados en estos préstamos."
   ]
  }
 ],
 "metadata": {
  "kernelspec": {
   "display_name": "Python 3",
   "language": "python",
   "name": "python3"
  },
  "language_info": {
   "codemirror_mode": {
    "name": "ipython",
    "version": 3
   },
   "file_extension": ".py",
   "mimetype": "text/x-python",
   "name": "python",
   "nbconvert_exporter": "python",
   "pygments_lexer": "ipython3",
   "version": "3.11.3"
  },
  "orig_nbformat": 4
 },
 "nbformat": 4,
 "nbformat_minor": 2
}
