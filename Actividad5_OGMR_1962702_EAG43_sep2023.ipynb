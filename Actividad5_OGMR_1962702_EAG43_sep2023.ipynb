{
 "cells": [
  {
   "attachments": {},
   "cell_type": "markdown",
   "metadata": {},
   "source": [
    "## Estadística Aplicada\n",
    "\n",
    "# Actividad 5\n",
    "Nombre: Oscar Gabriel Martínez Rodríguez\n",
    "\n",
    "Matrícula: 1962702\n",
    "\n",
    "Grupo: 43"
   ]
  },
  {
   "cell_type": "code",
   "execution_count": 6,
   "metadata": {},
   "outputs": [],
   "source": [
    "## librerias basicas\n",
    "import pandas as pd\n",
    "import numpy as np\n",
    "import matplotlib.pyplot as plt\n",
    "%matplotlib inline"
   ]
  },
  {
   "cell_type": "code",
   "execution_count": 7,
   "metadata": {},
   "outputs": [],
   "source": [
    "## librerias especificas\n",
    "from lifelines import ExponentialFitter\n",
    "from lifelines import WeibullFitter\n",
    "from lifelines import LogNormalFitter\n",
    "from lifelines import KaplanMeierFitter\n",
    "from lifelines.statistics import logrank_test"
   ]
  },
  {
   "cell_type": "code",
   "execution_count": 8,
   "metadata": {},
   "outputs": [
    {
     "data": {
      "text/html": [
       "<div>\n",
       "<style scoped>\n",
       "    .dataframe tbody tr th:only-of-type {\n",
       "        vertical-align: middle;\n",
       "    }\n",
       "\n",
       "    .dataframe tbody tr th {\n",
       "        vertical-align: top;\n",
       "    }\n",
       "\n",
       "    .dataframe thead th {\n",
       "        text-align: right;\n",
       "    }\n",
       "</style>\n",
       "<table border=\"1\" class=\"dataframe\">\n",
       "  <thead>\n",
       "    <tr style=\"text-align: right;\">\n",
       "      <th></th>\n",
       "      <th>tiempo</th>\n",
       "      <th>mujer</th>\n",
       "      <th>quebrar</th>\n",
       "    </tr>\n",
       "  </thead>\n",
       "  <tbody>\n",
       "    <tr>\n",
       "      <th>0</th>\n",
       "      <td>21</td>\n",
       "      <td>0</td>\n",
       "      <td>1</td>\n",
       "    </tr>\n",
       "    <tr>\n",
       "      <th>1</th>\n",
       "      <td>16</td>\n",
       "      <td>1</td>\n",
       "      <td>0</td>\n",
       "    </tr>\n",
       "    <tr>\n",
       "      <th>2</th>\n",
       "      <td>26</td>\n",
       "      <td>1</td>\n",
       "      <td>1</td>\n",
       "    </tr>\n",
       "    <tr>\n",
       "      <th>3</th>\n",
       "      <td>17</td>\n",
       "      <td>1</td>\n",
       "      <td>0</td>\n",
       "    </tr>\n",
       "    <tr>\n",
       "      <th>4</th>\n",
       "      <td>29</td>\n",
       "      <td>1</td>\n",
       "      <td>1</td>\n",
       "    </tr>\n",
       "  </tbody>\n",
       "</table>\n",
       "</div>"
      ],
      "text/plain": [
       "   tiempo  mujer  quebrar\n",
       "0      21      0        1\n",
       "1      16      1        0\n",
       "2      26      1        1\n",
       "3      17      1        0\n",
       "4      29      1        1"
      ]
     },
     "execution_count": 8,
     "metadata": {},
     "output_type": "execute_result"
    }
   ],
   "source": [
    "## datos\n",
    "data = pd.read_csv('https://raw.githubusercontent.com/jimmyzac/Estadistica-Aplicada-FCFM-UANL/main/bases_datos/quiebra.csv')\n",
    "data.head()"
   ]
  },
  {
   "cell_type": "code",
   "execution_count": 14,
   "metadata": {},
   "outputs": [
    {
     "data": {
      "text/html": [
       "<div>\n",
       "<style scoped>\n",
       "    .dataframe tbody tr th:only-of-type {\n",
       "        vertical-align: middle;\n",
       "    }\n",
       "\n",
       "    .dataframe tbody tr th {\n",
       "        vertical-align: top;\n",
       "    }\n",
       "\n",
       "    .dataframe thead th {\n",
       "        text-align: right;\n",
       "    }\n",
       "</style>\n",
       "<table border=\"1\" class=\"dataframe\">\n",
       "  <thead>\n",
       "    <tr style=\"text-align: right;\">\n",
       "      <th></th>\n",
       "      <th>tiempo</th>\n",
       "      <th>mujer</th>\n",
       "      <th>quebrar</th>\n",
       "    </tr>\n",
       "  </thead>\n",
       "  <tbody>\n",
       "    <tr>\n",
       "      <th>count</th>\n",
       "      <td>100.000000</td>\n",
       "      <td>100.000000</td>\n",
       "      <td>100.000000</td>\n",
       "    </tr>\n",
       "    <tr>\n",
       "      <th>mean</th>\n",
       "      <td>14.770000</td>\n",
       "      <td>0.510000</td>\n",
       "      <td>0.480000</td>\n",
       "    </tr>\n",
       "    <tr>\n",
       "      <th>std</th>\n",
       "      <td>8.765007</td>\n",
       "      <td>0.502418</td>\n",
       "      <td>0.502117</td>\n",
       "    </tr>\n",
       "    <tr>\n",
       "      <th>min</th>\n",
       "      <td>1.000000</td>\n",
       "      <td>0.000000</td>\n",
       "      <td>0.000000</td>\n",
       "    </tr>\n",
       "    <tr>\n",
       "      <th>25%</th>\n",
       "      <td>8.000000</td>\n",
       "      <td>0.000000</td>\n",
       "      <td>0.000000</td>\n",
       "    </tr>\n",
       "    <tr>\n",
       "      <th>50%</th>\n",
       "      <td>13.000000</td>\n",
       "      <td>1.000000</td>\n",
       "      <td>0.000000</td>\n",
       "    </tr>\n",
       "    <tr>\n",
       "      <th>75%</th>\n",
       "      <td>22.000000</td>\n",
       "      <td>1.000000</td>\n",
       "      <td>1.000000</td>\n",
       "    </tr>\n",
       "    <tr>\n",
       "      <th>max</th>\n",
       "      <td>30.000000</td>\n",
       "      <td>1.000000</td>\n",
       "      <td>1.000000</td>\n",
       "    </tr>\n",
       "  </tbody>\n",
       "</table>\n",
       "</div>"
      ],
      "text/plain": [
       "           tiempo       mujer     quebrar\n",
       "count  100.000000  100.000000  100.000000\n",
       "mean    14.770000    0.510000    0.480000\n",
       "std      8.765007    0.502418    0.502117\n",
       "min      1.000000    0.000000    0.000000\n",
       "25%      8.000000    0.000000    0.000000\n",
       "50%     13.000000    1.000000    0.000000\n",
       "75%     22.000000    1.000000    1.000000\n",
       "max     30.000000    1.000000    1.000000"
      ]
     },
     "execution_count": 14,
     "metadata": {},
     "output_type": "execute_result"
    }
   ],
   "source": [
    "data.describe()"
   ]
  },
  {
   "attachments": {},
   "cell_type": "markdown",
   "metadata": {},
   "source": [
    "En el enlace se encuentra la base de datos “quiebra.csv”que mide los años que tarda  en  quebrar  una  empresa  (desde  que se  crea  hasta  que quiebra),  la variable quebrar toma valores de 1 si la empresa quebró y 0 si esta censurada(no se observó la quiebra en el periodo de observación). La variable mujer toma valores  de  0  si  el  fundador  de  la  empresa  es  hombre  y  1  si  el  fundador  de  la empresa  es  mujer.  La  variable  tiempo  mide  los  años  que  tardo  en  quebrar  la empresa. "
   ]
  },
  {
   "cell_type": "code",
   "execution_count": 9,
   "metadata": {},
   "outputs": [],
   "source": [
    "#a) ajuste un modelo de supervivencia exponencial\n",
    "expon = ExponentialFitter().fit(data['tiempo'], data['quebrar'])"
   ]
  },
  {
   "cell_type": "code",
   "execution_count": 45,
   "metadata": {},
   "outputs": [
    {
     "data": {
      "text/plain": [
       "Text(0, 0.5, '$h(t)$')"
      ]
     },
     "execution_count": 45,
     "metadata": {},
     "output_type": "execute_result"
    },
    {
     "data": {
      "image/png": "[encoded data removed]",
      "text/plain": [
       "<Figure size 640x480 with 1 Axes>"
      ]
     },
     "metadata": {},
     "output_type": "display_data"
    }
   ],
   "source": [
    "#grafique la funcion de riesgo\n",
    "expon.plot_hazard(label = 'funcion estimada IC 95%')\n",
    "plt.title('Funcion de riesgo de la exponencial')\n",
    "plt.xlim(1,30)\n",
    "plt.ylim(0,0.2)\n",
    "plt.xlabel('años')\n",
    "plt.ylabel('$h(t)$')"
   ]
  },
  {
   "cell_type": "code",
   "execution_count": 32,
   "metadata": {},
   "outputs": [
    {
     "data": {
      "text/html": [
       "<div>\n",
       "<style scoped>\n",
       "    .dataframe tbody tr th:only-of-type {\n",
       "        vertical-align: middle;\n",
       "    }\n",
       "\n",
       "    .dataframe tbody tr th {\n",
       "        vertical-align: top;\n",
       "    }\n",
       "\n",
       "    .dataframe thead th {\n",
       "        text-align: right;\n",
       "    }\n",
       "</style>\n",
       "<table border=\"1\" class=\"dataframe\">\n",
       "  <thead>\n",
       "    <tr style=\"text-align: right;\">\n",
       "      <th></th>\n",
       "      <th>Exponential_estimate</th>\n",
       "    </tr>\n",
       "  </thead>\n",
       "  <tbody>\n",
       "    <tr>\n",
       "      <th>1.000000</th>\n",
       "      <td>0.032498</td>\n",
       "    </tr>\n",
       "    <tr>\n",
       "      <th>1.292929</th>\n",
       "      <td>0.032498</td>\n",
       "    </tr>\n",
       "    <tr>\n",
       "      <th>1.585859</th>\n",
       "      <td>0.032498</td>\n",
       "    </tr>\n",
       "    <tr>\n",
       "      <th>1.878788</th>\n",
       "      <td>0.032498</td>\n",
       "    </tr>\n",
       "    <tr>\n",
       "      <th>2.171717</th>\n",
       "      <td>0.032498</td>\n",
       "    </tr>\n",
       "    <tr>\n",
       "      <th>...</th>\n",
       "      <td>...</td>\n",
       "    </tr>\n",
       "    <tr>\n",
       "      <th>28.828283</th>\n",
       "      <td>0.032498</td>\n",
       "    </tr>\n",
       "    <tr>\n",
       "      <th>29.121212</th>\n",
       "      <td>0.032498</td>\n",
       "    </tr>\n",
       "    <tr>\n",
       "      <th>29.414141</th>\n",
       "      <td>0.032498</td>\n",
       "    </tr>\n",
       "    <tr>\n",
       "      <th>29.707071</th>\n",
       "      <td>0.032498</td>\n",
       "    </tr>\n",
       "    <tr>\n",
       "      <th>30.000000</th>\n",
       "      <td>0.032498</td>\n",
       "    </tr>\n",
       "  </tbody>\n",
       "</table>\n",
       "<p>100 rows × 1 columns</p>\n",
       "</div>"
      ],
      "text/plain": [
       "           Exponential_estimate\n",
       "1.000000               0.032498\n",
       "1.292929               0.032498\n",
       "1.585859               0.032498\n",
       "1.878788               0.032498\n",
       "2.171717               0.032498\n",
       "...                         ...\n",
       "28.828283              0.032498\n",
       "29.121212              0.032498\n",
       "29.414141              0.032498\n",
       "29.707071              0.032498\n",
       "30.000000              0.032498\n",
       "\n",
       "[100 rows x 1 columns]"
      ]
     },
     "execution_count": 32,
     "metadata": {},
     "output_type": "execute_result"
    }
   ],
   "source": [
    "#c) ¿Cuáles  el  riesgo  de  que una empresa  quiebre  según  la  función exponencial?\n",
    "expon.hazard_"
   ]
  },
  {
   "attachments": {},
   "cell_type": "markdown",
   "metadata": {},
   "source": [
    "Dado que el riesgo es constante para cualquier momento t, el riesgo de que una empresa quiebre según la función exponencial es de **0.032498**"
   ]
  },
  {
   "attachments": {},
   "cell_type": "markdown",
   "metadata": {},
   "source": [
    "4.-Con  la  base  de  datos del  punto  3 responda en  la  misma  notebook  lo siguiente:"
   ]
  },
  {
   "cell_type": "code",
   "execution_count": 19,
   "metadata": {},
   "outputs": [],
   "source": [
    "#a) Ajuste un modelo Weibull de supervivencia \n",
    "weib = WeibullFitter().fit(data['tiempo'], data['quebrar'])"
   ]
  },
  {
   "cell_type": "code",
   "execution_count": 43,
   "metadata": {},
   "outputs": [
    {
     "data": {
      "text/plain": [
       "Text(0, 0.5, '$ h(t) $')"
      ]
     },
     "execution_count": 43,
     "metadata": {},
     "output_type": "execute_result"
    },
    {
     "data": {
      "image/png": "[encoded data removed]",
      "text/plain": [
       "<Figure size 640x480 with 1 Axes>"
      ]
     },
     "metadata": {},
     "output_type": "display_data"
    }
   ],
   "source": [
    "#b) Grafique la función de riesgo\n",
    "weib.plot_hazard(label = 'funcion estimada IC = 95%')\n",
    "plt.title('Funcion riesgo Weibull')\n",
    "plt.xlim(1, 30)\n",
    "plt.xlabel('años')\n",
    "plt.ylabel('$ h(t) $')"
   ]
  },
  {
   "cell_type": "code",
   "execution_count": 37,
   "metadata": {},
   "outputs": [
    {
     "data": {
      "text/html": [
       "<div>\n",
       "<style scoped>\n",
       "    .dataframe tbody tr th:only-of-type {\n",
       "        vertical-align: middle;\n",
       "    }\n",
       "\n",
       "    .dataframe tbody tr th {\n",
       "        vertical-align: top;\n",
       "    }\n",
       "\n",
       "    .dataframe thead th {\n",
       "        text-align: right;\n",
       "    }\n",
       "</style>\n",
       "<table border=\"1\" class=\"dataframe\">\n",
       "  <thead>\n",
       "    <tr style=\"text-align: right;\">\n",
       "      <th></th>\n",
       "      <th>Weibull_estimate</th>\n",
       "    </tr>\n",
       "  </thead>\n",
       "  <tbody>\n",
       "    <tr>\n",
       "      <th>1.000000</th>\n",
       "      <td>0.007059</td>\n",
       "    </tr>\n",
       "    <tr>\n",
       "      <th>1.292929</th>\n",
       "      <td>0.008434</td>\n",
       "    </tr>\n",
       "    <tr>\n",
       "      <th>1.585859</th>\n",
       "      <td>0.009716</td>\n",
       "    </tr>\n",
       "    <tr>\n",
       "      <th>1.878788</th>\n",
       "      <td>0.010927</td>\n",
       "    </tr>\n",
       "    <tr>\n",
       "      <th>2.171717</th>\n",
       "      <td>0.012080</td>\n",
       "    </tr>\n",
       "    <tr>\n",
       "      <th>...</th>\n",
       "      <td>...</td>\n",
       "    </tr>\n",
       "    <tr>\n",
       "      <th>28.828283</th>\n",
       "      <td>0.072459</td>\n",
       "    </tr>\n",
       "    <tr>\n",
       "      <th>29.121212</th>\n",
       "      <td>0.072969</td>\n",
       "    </tr>\n",
       "    <tr>\n",
       "      <th>29.414141</th>\n",
       "      <td>0.073476</td>\n",
       "    </tr>\n",
       "    <tr>\n",
       "      <th>29.707071</th>\n",
       "      <td>0.073982</td>\n",
       "    </tr>\n",
       "    <tr>\n",
       "      <th>30.000000</th>\n",
       "      <td>0.074487</td>\n",
       "    </tr>\n",
       "  </tbody>\n",
       "</table>\n",
       "<p>100 rows × 1 columns</p>\n",
       "</div>"
      ],
      "text/plain": [
       "           Weibull_estimate\n",
       "1.000000           0.007059\n",
       "1.292929           0.008434\n",
       "1.585859           0.009716\n",
       "1.878788           0.010927\n",
       "2.171717           0.012080\n",
       "...                     ...\n",
       "28.828283          0.072459\n",
       "29.121212          0.072969\n",
       "29.414141          0.073476\n",
       "29.707071          0.073982\n",
       "30.000000          0.074487\n",
       "\n",
       "[100 rows x 1 columns]"
      ]
     },
     "execution_count": 37,
     "metadata": {},
     "output_type": "execute_result"
    }
   ],
   "source": [
    "#c) ¿Qué forma tiene la función de riesgo? y ¿qué significa? \n",
    "weib.hazard_"
   ]
  },
  {
   "attachments": {},
   "cell_type": "markdown",
   "metadata": {},
   "source": [
    "Tiene forma creciente, lo cual significa que el riesgo como tal también es creciente"
   ]
  },
  {
   "attachments": {},
   "cell_type": "markdown",
   "metadata": {},
   "source": [
    "5.-Con  la  base  de  datos  del  punto  3  responda  en  la  misma  notebook  lo siguiente:"
   ]
  },
  {
   "cell_type": "code",
   "execution_count": 26,
   "metadata": {},
   "outputs": [],
   "source": [
    "#a) Ajuste un modelo Log-Normal\n",
    "mlogn = LogNormalFitter().fit(data['tiempo'], data['quebrar'])"
   ]
  },
  {
   "cell_type": "code",
   "execution_count": 42,
   "metadata": {},
   "outputs": [
    {
     "data": {
      "text/plain": [
       "Text(0, 0.5, '$ h(t) $')"
      ]
     },
     "execution_count": 42,
     "metadata": {},
     "output_type": "execute_result"
    },
    {
     "data": {
      "image/png": "[encoded data removed]",
      "text/plain": [
       "<Figure size 640x480 with 1 Axes>"
      ]
     },
     "metadata": {},
     "output_type": "display_data"
    }
   ],
   "source": [
    "#b) Grafique la función de riesgo\n",
    "mlogn.plot_hazard(label = 'funcion estimada IC 95%')\n",
    "plt.title('Funcion riesgo Log Normal')\n",
    "plt.xlim(1, 30)\n",
    "plt.xlabel('años')\n",
    "plt.ylabel('$ h(t) $')"
   ]
  },
  {
   "cell_type": "code",
   "execution_count": 41,
   "metadata": {},
   "outputs": [
    {
     "data": {
      "text/html": [
       "<div>\n",
       "<style scoped>\n",
       "    .dataframe tbody tr th:only-of-type {\n",
       "        vertical-align: middle;\n",
       "    }\n",
       "\n",
       "    .dataframe tbody tr th {\n",
       "        vertical-align: top;\n",
       "    }\n",
       "\n",
       "    .dataframe thead th {\n",
       "        text-align: right;\n",
       "    }\n",
       "</style>\n",
       "<table border=\"1\" class=\"dataframe\">\n",
       "  <thead>\n",
       "    <tr style=\"text-align: right;\">\n",
       "      <th></th>\n",
       "      <th>LogNormal_estimate</th>\n",
       "    </tr>\n",
       "  </thead>\n",
       "  <tbody>\n",
       "    <tr>\n",
       "      <th>1.000000</th>\n",
       "      <td>0.003749</td>\n",
       "    </tr>\n",
       "    <tr>\n",
       "      <th>1.292929</th>\n",
       "      <td>0.006219</td>\n",
       "    </tr>\n",
       "    <tr>\n",
       "      <th>1.585859</th>\n",
       "      <td>0.008870</td>\n",
       "    </tr>\n",
       "    <tr>\n",
       "      <th>1.878788</th>\n",
       "      <td>0.011543</td>\n",
       "    </tr>\n",
       "    <tr>\n",
       "      <th>2.171717</th>\n",
       "      <td>0.014143</td>\n",
       "    </tr>\n",
       "    <tr>\n",
       "      <th>...</th>\n",
       "      <td>...</td>\n",
       "    </tr>\n",
       "    <tr>\n",
       "      <th>28.828283</th>\n",
       "      <td>0.036053</td>\n",
       "    </tr>\n",
       "    <tr>\n",
       "      <th>29.121212</th>\n",
       "      <td>0.035941</td>\n",
       "    </tr>\n",
       "    <tr>\n",
       "      <th>29.414141</th>\n",
       "      <td>0.035829</td>\n",
       "    </tr>\n",
       "    <tr>\n",
       "      <th>29.707071</th>\n",
       "      <td>0.035718</td>\n",
       "    </tr>\n",
       "    <tr>\n",
       "      <th>30.000000</th>\n",
       "      <td>0.035607</td>\n",
       "    </tr>\n",
       "  </tbody>\n",
       "</table>\n",
       "<p>100 rows × 1 columns</p>\n",
       "</div>"
      ],
      "text/plain": [
       "           LogNormal_estimate\n",
       "1.000000             0.003749\n",
       "1.292929             0.006219\n",
       "1.585859             0.008870\n",
       "1.878788             0.011543\n",
       "2.171717             0.014143\n",
       "...                       ...\n",
       "28.828283            0.036053\n",
       "29.121212            0.035941\n",
       "29.414141            0.035829\n",
       "29.707071            0.035718\n",
       "30.000000            0.035607\n",
       "\n",
       "[100 rows x 1 columns]"
      ]
     },
     "execution_count": 41,
     "metadata": {},
     "output_type": "execute_result"
    }
   ],
   "source": [
    "#c) En qué periodo el riesgo de quebrar es creciente y en cuál decreciente\n",
    "mlogn.hazard_"
   ]
  },
  {
   "cell_type": "code",
   "execution_count": 75,
   "metadata": {},
   "outputs": [
    {
     "data": {
      "text/html": [
       "<div>\n",
       "<style scoped>\n",
       "    .dataframe tbody tr th:only-of-type {\n",
       "        vertical-align: middle;\n",
       "    }\n",
       "\n",
       "    .dataframe tbody tr th {\n",
       "        vertical-align: top;\n",
       "    }\n",
       "\n",
       "    .dataframe thead th {\n",
       "        text-align: right;\n",
       "    }\n",
       "</style>\n",
       "<table border=\"1\" class=\"dataframe\">\n",
       "  <thead>\n",
       "    <tr style=\"text-align: right;\">\n",
       "      <th></th>\n",
       "      <th>LogNormal_estimate</th>\n",
       "    </tr>\n",
       "  </thead>\n",
       "  <tbody>\n",
       "    <tr>\n",
       "      <th>12.717172</th>\n",
       "      <td>0.041061</td>\n",
       "    </tr>\n",
       "    <tr>\n",
       "      <th>13.010101</th>\n",
       "      <td>0.041069</td>\n",
       "    </tr>\n",
       "    <tr>\n",
       "      <th>13.303030</th>\n",
       "      <td>0.041067</td>\n",
       "    </tr>\n",
       "    <tr>\n",
       "      <th>13.595960</th>\n",
       "      <td>0.041056</td>\n",
       "    </tr>\n",
       "    <tr>\n",
       "      <th>13.888889</th>\n",
       "      <td>0.041036</td>\n",
       "    </tr>\n",
       "  </tbody>\n",
       "</table>\n",
       "</div>"
      ],
      "text/plain": [
       "           LogNormal_estimate\n",
       "12.717172            0.041061\n",
       "13.010101            0.041069\n",
       "13.303030            0.041067\n",
       "13.595960            0.041056\n",
       "13.888889            0.041036"
      ]
     },
     "execution_count": 75,
     "metadata": {},
     "output_type": "execute_result"
    }
   ],
   "source": [
    "mlogn1 = pd.DataFrame(mlogn.hazard_)\n",
    "mlogn1[12.5:14]"
   ]
  },
  {
   "attachments": {},
   "cell_type": "markdown",
   "metadata": {},
   "source": [
    "Gráficasmente, se ve que de 1 año a aprox 10 años, un poco después, es creciente, mientras que de allí en adelante es decreciente hasta finalizar en tiempo = 30 años.\n",
    "\n",
    "Con el comando mlogn1[12.5:14] se encuentra que a partir de los 13 años comienza a tener un comportamiento decreciente."
   ]
  },
  {
   "attachments": {},
   "cell_type": "markdown",
   "metadata": {},
   "source": [
    "6.-Utilizando  elestimador  de  Kaplan-Meier realice  una  notebook  en  Python para responder lo siguiente:"
   ]
  },
  {
   "cell_type": "code",
   "execution_count": 46,
   "metadata": {},
   "outputs": [],
   "source": [
    "#a) Estime   la   función   de   supervivencia   y   la   mediana   de   tiempo   de supervivencia y diga que significa."
   ]
  },
  {
   "cell_type": "code",
   "execution_count": 47,
   "metadata": {},
   "outputs": [],
   "source": [
    "km1 = KaplanMeierFitter().fit(data['tiempo'], data['quebrar'])"
   ]
  },
  {
   "cell_type": "code",
   "execution_count": 48,
   "metadata": {},
   "outputs": [
    {
     "data": {
      "text/html": [
       "<div>\n",
       "<style scoped>\n",
       "    .dataframe tbody tr th:only-of-type {\n",
       "        vertical-align: middle;\n",
       "    }\n",
       "\n",
       "    .dataframe tbody tr th {\n",
       "        vertical-align: top;\n",
       "    }\n",
       "\n",
       "    .dataframe thead th {\n",
       "        text-align: right;\n",
       "    }\n",
       "</style>\n",
       "<table border=\"1\" class=\"dataframe\">\n",
       "  <thead>\n",
       "    <tr style=\"text-align: right;\">\n",
       "      <th></th>\n",
       "      <th>KM_estimate</th>\n",
       "    </tr>\n",
       "    <tr>\n",
       "      <th>timeline</th>\n",
       "      <th></th>\n",
       "    </tr>\n",
       "  </thead>\n",
       "  <tbody>\n",
       "    <tr>\n",
       "      <th>0.0</th>\n",
       "      <td>1.000000</td>\n",
       "    </tr>\n",
       "    <tr>\n",
       "      <th>1.0</th>\n",
       "      <td>0.990000</td>\n",
       "    </tr>\n",
       "    <tr>\n",
       "      <th>2.0</th>\n",
       "      <td>0.959694</td>\n",
       "    </tr>\n",
       "    <tr>\n",
       "      <th>3.0</th>\n",
       "      <td>0.928400</td>\n",
       "    </tr>\n",
       "    <tr>\n",
       "      <th>4.0</th>\n",
       "      <td>0.928400</td>\n",
       "    </tr>\n",
       "    <tr>\n",
       "      <th>5.0</th>\n",
       "      <td>0.917477</td>\n",
       "    </tr>\n",
       "    <tr>\n",
       "      <th>7.0</th>\n",
       "      <td>0.873261</td>\n",
       "    </tr>\n",
       "    <tr>\n",
       "      <th>8.0</th>\n",
       "      <td>0.829046</td>\n",
       "    </tr>\n",
       "    <tr>\n",
       "      <th>9.0</th>\n",
       "      <td>0.829046</td>\n",
       "    </tr>\n",
       "    <tr>\n",
       "      <th>10.0</th>\n",
       "      <td>0.791924</td>\n",
       "    </tr>\n",
       "    <tr>\n",
       "      <th>11.0</th>\n",
       "      <td>0.766378</td>\n",
       "    </tr>\n",
       "    <tr>\n",
       "      <th>12.0</th>\n",
       "      <td>0.726043</td>\n",
       "    </tr>\n",
       "    <tr>\n",
       "      <th>14.0</th>\n",
       "      <td>0.726043</td>\n",
       "    </tr>\n",
       "    <tr>\n",
       "      <th>15.0</th>\n",
       "      <td>0.711225</td>\n",
       "    </tr>\n",
       "    <tr>\n",
       "      <th>16.0</th>\n",
       "      <td>0.664841</td>\n",
       "    </tr>\n",
       "    <tr>\n",
       "      <th>17.0</th>\n",
       "      <td>0.664841</td>\n",
       "    </tr>\n",
       "    <tr>\n",
       "      <th>18.0</th>\n",
       "      <td>0.646373</td>\n",
       "    </tr>\n",
       "    <tr>\n",
       "      <th>19.0</th>\n",
       "      <td>0.627362</td>\n",
       "    </tr>\n",
       "    <tr>\n",
       "      <th>20.0</th>\n",
       "      <td>0.607757</td>\n",
       "    </tr>\n",
       "    <tr>\n",
       "      <th>21.0</th>\n",
       "      <td>0.586800</td>\n",
       "    </tr>\n",
       "    <tr>\n",
       "      <th>22.0</th>\n",
       "      <td>0.543333</td>\n",
       "    </tr>\n",
       "    <tr>\n",
       "      <th>23.0</th>\n",
       "      <td>0.475417</td>\n",
       "    </tr>\n",
       "    <tr>\n",
       "      <th>24.0</th>\n",
       "      <td>0.475417</td>\n",
       "    </tr>\n",
       "    <tr>\n",
       "      <th>25.0</th>\n",
       "      <td>0.404104</td>\n",
       "    </tr>\n",
       "    <tr>\n",
       "      <th>26.0</th>\n",
       "      <td>0.378848</td>\n",
       "    </tr>\n",
       "    <tr>\n",
       "      <th>27.0</th>\n",
       "      <td>0.320563</td>\n",
       "    </tr>\n",
       "    <tr>\n",
       "      <th>28.0</th>\n",
       "      <td>0.291421</td>\n",
       "    </tr>\n",
       "    <tr>\n",
       "      <th>29.0</th>\n",
       "      <td>0.259041</td>\n",
       "    </tr>\n",
       "    <tr>\n",
       "      <th>30.0</th>\n",
       "      <td>0.129521</td>\n",
       "    </tr>\n",
       "  </tbody>\n",
       "</table>\n",
       "</div>"
      ],
      "text/plain": [
       "          KM_estimate\n",
       "timeline             \n",
       "0.0          1.000000\n",
       "1.0          0.990000\n",
       "2.0          0.959694\n",
       "3.0          0.928400\n",
       "4.0          0.928400\n",
       "5.0          0.917477\n",
       "7.0          0.873261\n",
       "8.0          0.829046\n",
       "9.0          0.829046\n",
       "10.0         0.791924\n",
       "11.0         0.766378\n",
       "12.0         0.726043\n",
       "14.0         0.726043\n",
       "15.0         0.711225\n",
       "16.0         0.664841\n",
       "17.0         0.664841\n",
       "18.0         0.646373\n",
       "19.0         0.627362\n",
       "20.0         0.607757\n",
       "21.0         0.586800\n",
       "22.0         0.543333\n",
       "23.0         0.475417\n",
       "24.0         0.475417\n",
       "25.0         0.404104\n",
       "26.0         0.378848\n",
       "27.0         0.320563\n",
       "28.0         0.291421\n",
       "29.0         0.259041\n",
       "30.0         0.129521"
      ]
     },
     "execution_count": 48,
     "metadata": {},
     "output_type": "execute_result"
    }
   ],
   "source": [
    "km1.survival_function_"
   ]
  },
  {
   "cell_type": "code",
   "execution_count": 49,
   "metadata": {},
   "outputs": [
    {
     "data": {
      "text/plain": [
       "23.0"
      ]
     },
     "execution_count": 49,
     "metadata": {},
     "output_type": "execute_result"
    }
   ],
   "source": [
    "km1.median_survival_time_"
   ]
  },
  {
   "attachments": {},
   "cell_type": "markdown",
   "metadata": {},
   "source": [
    "La media de 23 semanas indica que la mitad de las empresas fundadas quiebran a las 23 semanas."
   ]
  },
  {
   "attachments": {},
   "cell_type": "markdown",
   "metadata": {},
   "source": [
    "b) Estime  la  función  de  supervivencia  por  Kaplan-meier  para  hombres  y mujeres  y  grafique  con .plot_survival_function(ci_show=False) y  diga  si  las empresas administradas por hombres/mujeres quiebran más rápido. No olvide etiquetar cada línea y agregar todos los elementos en cada gráfica."
   ]
  },
  {
   "cell_type": "code",
   "execution_count": 56,
   "metadata": {},
   "outputs": [],
   "source": [
    "hombres = data.query('mujer == 0')\n",
    "mujer = data.query('mujer == 1')"
   ]
  },
  {
   "cell_type": "code",
   "execution_count": 57,
   "metadata": {},
   "outputs": [],
   "source": [
    "km1_h = KaplanMeierFitter().fit(hombres['tiempo'], hombres['quebrar'])\n",
    "km1_m = KaplanMeierFitter().fit(mujer['tiempo'], mujer['quebrar'])"
   ]
  },
  {
   "cell_type": "code",
   "execution_count": 60,
   "metadata": {},
   "outputs": [
    {
     "data": {
      "image/png": "[encoded data removed]",
      "text/plain": [
       "<Figure size 640x480 with 1 Axes>"
      ]
     },
     "metadata": {},
     "output_type": "display_data"
    }
   ],
   "source": [
    "km1_h.plot_survival_function(label = 'hombres', ci_show=False)\n",
    "km1_m.plot_survival_function(label = 'mujeres', ci_show=False)\n",
    "plt.xlim(1,31)\n",
    "plt.title('Función de supervivencia de Kaplan-Meier')\n",
    "plt.xlabel('tiempo')\n",
    "plt.ylabel('$\\hat{S(t)}$')\n",
    "plt.yticks([0,0.2,0.4,0.6,0.8,1]);"
   ]
  },
  {
   "attachments": {},
   "cell_type": "markdown",
   "metadata": {},
   "source": [
    "Las empresas tienen un comportamiento similar ya sean administradas por hombres o mujeres, aunque gráficamente se aprecia que la s(t) correspondiente a los hombres decrece más comparado al de las mujeres, por lo que se podría decir que las empresas administradas por hombres quiebran más rápido (al menos gráficamente)."
   ]
  },
  {
   "attachments": {},
   "cell_type": "markdown",
   "metadata": {},
   "source": [
    "c) El profesor cree que las empresas fundadas por hombres quiebran más rápido,   refute   o   confirme   con   evidencia   estadística   tal   afirmación (pruebas de hipótesis, graficas, tablas etc.)"
   ]
  },
  {
   "cell_type": "code",
   "execution_count": 61,
   "metadata": {},
   "outputs": [],
   "source": [
    "#a traves de una log rank test primero confirmar que sean distintos"
   ]
  },
  {
   "attachments": {},
   "cell_type": "markdown",
   "metadata": {},
   "source": [
    "prueba de hipótesis (Log Rank Test)\n",
    "$H0 : S(1) = S(2)$ funciones de supervivencia iguales\n",
    "$Ha: S(1) =/= S(2)$ funciones de supervivencia distintas"
   ]
  },
  {
   "cell_type": "code",
   "execution_count": 63,
   "metadata": {},
   "outputs": [
    {
     "data": {
      "text/plain": [
       "<bound method StatisticalResult.print_summary of <lifelines.StatisticalResult: logrank_test>\n",
       "               t_0 = -1\n",
       " null_distribution = chi squared\n",
       "degrees_of_freedom = 1\n",
       "         test_name = logrank_test\n",
       "\n",
       "---\n",
       " test_statistic    p  -log2(p)\n",
       "           0.28 0.59      0.75>"
      ]
     },
     "execution_count": 63,
     "metadata": {},
     "output_type": "execute_result"
    }
   ],
   "source": [
    "lrt = logrank_test(hombres['tiempo'], mujer['tiempo'],hombres['quebrar'],mujer['quebrar'])\n",
    "lrt.print_summary"
   ]
  },
  {
   "cell_type": "code",
   "execution_count": 64,
   "metadata": {},
   "outputs": [
    {
     "data": {
      "text/plain": [
       "0.59"
      ]
     },
     "execution_count": 64,
     "metadata": {},
     "output_type": "execute_result"
    }
   ],
   "source": [
    "lrt.p_value.round(2)"
   ]
  },
  {
   "cell_type": "code",
   "execution_count": 65,
   "metadata": {},
   "outputs": [
    {
     "data": {
      "text/plain": [
       "22.0"
      ]
     },
     "execution_count": 65,
     "metadata": {},
     "output_type": "execute_result"
    }
   ],
   "source": [
    "km1_h.median_survival_time_"
   ]
  },
  {
   "cell_type": "code",
   "execution_count": 66,
   "metadata": {},
   "outputs": [
    {
     "data": {
      "text/plain": [
       "25.0"
      ]
     },
     "execution_count": 66,
     "metadata": {},
     "output_type": "execute_result"
    }
   ],
   "source": [
    "km1_m.median_survival_time_"
   ]
  },
  {
   "attachments": {},
   "cell_type": "markdown",
   "metadata": {},
   "source": [
    "Dado el p-valor de 0.59, no se rechaza H0, por lo que no se consideran distintas las funciones de supervivencia entre hombres y mujeres, quiebran de forma similar.  La mitad de las empresas fundadas por hombres quiebran a las 22 semanas, mientras que la mitas de las empresas fundadas por mujeres quiebran a las 25 semanas."
   ]
  }
 ],
 "metadata": {
  "kernelspec": {
   "display_name": "Python 3",
   "language": "python",
   "name": "python3"
  },
  "language_info": {
   "codemirror_mode": {
    "name": "ipython",
    "version": 3
   },
   "file_extension": ".py",
   "mimetype": "text/x-python",
   "name": "python",
   "nbconvert_exporter": "python",
   "pygments_lexer": "ipython3",
   "version": "3.11.3"
  },
  "orig_nbformat": 4
 },
 "nbformat": 4,
 "nbformat_minor": 2
}
